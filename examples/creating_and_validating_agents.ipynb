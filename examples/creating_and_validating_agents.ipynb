{
 "cells": [
  {
   "cell_type": "markdown",
   "metadata": {},
   "source": [
    "# Creating and Validating Agents\n",
    "\n",
    "Let's see how we can summon a complete agent into existence and then verify whether it really is what we wanted.\n"
   ]
  },
  {
   "cell_type": "code",
   "execution_count": null,
   "metadata": {},
   "outputs": [
    {
     "name": "stdout",
     "output_type": "stream",
     "text": [
      "Failed to find custom config on: c:\\Users\\pdasilva\\OneDrive - Microsoft\\Git repositories\\tinytroupe\\notebooks\\config.ini\n",
      "Now switching to default config file...\n",
      "Looking for config on: c:\\Users\\pdasilva\\OneDrive - Microsoft\\Git repositories\\tinytroupe\\notebooks\\..\\tinytroupe\\config.ini\n"
     ]
    }
   ],
   "source": [
    "import json\n",
    "import sys\n",
    "sys.path.append('..')\n",
    "\n",
    "import tinytroupe\n",
    "from tinytroupe.agent import TinyPerson\n",
    "from tinytroupe.environment import TinyWorld, TinySocialNetwork\n",
    "from tinytroupe.factory import TinyPersonFactory\n",
    "from tinytroupe.validation import TinyPersonValidator\n",
    "from tinytroupe.extraction import default_extractor as extractor\n",
    "from tinytroupe.extraction import ResultsReducer\n",
    "import tinytroupe.control as control\n",
    "\n",
    "import textwrap"
   ]
  },
  {
   "cell_type": "markdown",
   "metadata": {},
   "source": [
    "Let's create the specific types of agents we need to collect data."
   ]
  },
  {
   "cell_type": "markdown",
   "metadata": {},
   "source": [
    "## The Banker"
   ]
  },
  {
   "cell_type": "code",
   "execution_count": 2,
   "metadata": {},
   "outputs": [],
   "source": [
    "banker_spec =\\\n",
    "\"\"\"\n",
    "A vice-president of one of the largest brazillian banks. Has a degree in engineering and an MBA in finance. \n",
    "Is facing a lot of pressure from the board of directors to fight off the competition from the fintechs.    \n",
    "\"\"\""
   ]
  },
  {
   "cell_type": "code",
   "execution_count": 3,
   "metadata": {},
   "outputs": [],
   "source": [
    "banker_factory = TinyPersonFactory(banker_spec)\n",
    "\n",
    "banker = banker_factory.generate_person()"
   ]
  },
  {
   "cell_type": "code",
   "execution_count": 4,
   "metadata": {},
   "outputs": [
    {
     "data": {
      "text/plain": [
       "'Marcela Ferreira is a 47 year old Vice-President of Finance, Brazilian, currently living in Brazil.'"
      ]
     },
     "execution_count": 4,
     "metadata": {},
     "output_type": "execute_result"
    }
   ],
   "source": [
    "banker.minibio()"
   ]
  },
  {
   "cell_type": "markdown",
   "metadata": {},
   "source": [
    "Let's now define some expectations for this agent. By separating the expectations from our original agent spec, we get a more independent and reliable evaluation."
   ]
  },
  {
   "cell_type": "code",
   "execution_count": 5,
   "metadata": {},
   "outputs": [],
   "source": [
    "banker_expectations =\\\n",
    "\"\"\"\n",
    "He/she is:\n",
    " - Wealthy\n",
    " - Very intelligent and ambitious\n",
    " - Has a lot of connections\n",
    " - Is in his 40s or 50s\n",
    "\n",
    "Tastes:\n",
    "  - Likes to travel to other countries\n",
    "  - Either read books, collect art or play golf\n",
    "  - Enjoy only the best, most expensive, wines and food\n",
    "  - Dislikes communists, unions and the like\n",
    "\n",
    "Other notable traits:\n",
    "  - Has some stress issues, and might be a bit of a workaholic\n",
    "  - Deep knowledge of finance, economics and financial technology\n",
    "  - Is a bit of a snob\n",
    "  - Might pretend to be a hard-core woke, but in reality that's just a facade to climb the corporate ladder  \n",
    "\"\"\""
   ]
  },
  {
   "cell_type": "code",
   "execution_count": null,
   "metadata": {},
   "outputs": [
    {
     "data": {
      "text/html": [
       "<pre style=\"margin:0px;;white-space:pre;overflow-x:auto;line-height:normal;font-family:Menlo,'DejaVu Sans Mono',consolas,'Courier New',monospace\"><span style=\"color: #00ffff; text-decoration-color: #00ffff; font-weight: bold; font-style: italic; text-decoration: underline\">USER</span><span style=\"color: #00ffff; text-decoration-color: #00ffff; font-weight: bold; font-style: italic\"> --&gt; </span><span style=\"color: #00ffff; text-decoration-color: #00ffff; font-weight: bold; font-style: italic; text-decoration: underline\">Marcela Ferreira</span><span style=\"color: #00ffff; text-decoration-color: #00ffff; font-weight: bold; font-style: italic\">: [CONVERSATION] </span>\n",
       "<span style=\"color: #00ffff; text-decoration-color: #00ffff; font-weight: bold; font-style: italic\">          &gt; Hello Marcela, I'm interested in learning more about you. Could you please answer the</span>\n",
       "<span style=\"color: #00ffff; text-decoration-color: #00ffff; font-weight: bold; font-style: italic\">          &gt; following questions for me?  1. What is your full name? 2. How old are you? 3. Where</span>\n",
       "<span style=\"color: #00ffff; text-decoration-color: #00ffff; font-weight: bold; font-style: italic\">          &gt; were you born? 4. What is your current occupation? 5. Can you tell me about your</span>\n",
       "<span style=\"color: #00ffff; text-decoration-color: #00ffff; font-weight: bold; font-style: italic\">          &gt; educational background? 6. How would you describe your financial status? 7. What are</span>\n",
       "<span style=\"color: #00ffff; text-decoration-color: #00ffff; font-weight: bold; font-style: italic\">          &gt; your ambitions in life? 8. Could you tell me about your professional network and</span>\n",
       "<span style=\"color: #00ffff; text-decoration-color: #00ffff; font-weight: bold; font-style: italic\">          &gt; connections? 9. Do you enjoy traveling? If so, which countries have you visited</span>\n",
       "<span style=\"color: #00ffff; text-decoration-color: #00ffff; font-weight: bold; font-style: italic\">          &gt; recently? 10. What are your hobbies? Do you read books, collect art, or play golf? 11.</span>\n",
       "<span style=\"color: #00ffff; text-decoration-color: #00ffff; font-weight: bold; font-style: italic\">          &gt; What is your opinion on wines and food? Do you have any particular preferences? 12. What</span>\n",
       "<span style=\"color: #00ffff; text-decoration-color: #00ffff; font-weight: bold; font-style: italic\">          &gt; are your thoughts on communism and labor unions? 13. Have you ever experienced stress</span>\n",
       "<span style=\"color: #00ffff; text-decoration-color: #00ffff; font-weight: bold; font-style: italic\">          &gt; related to work? Would you consider yourself a workaholic? 14. Could you share some</span>\n",
       "<span style=\"color: #00ffff; text-decoration-color: #00ffff; font-weight: bold; font-style: italic\">          &gt; insights into your knowledge of finance, economics, and financial technology? 15. How do</span>\n",
       "<span style=\"color: #00ffff; text-decoration-color: #00ffff; font-weight: bold; font-style: italic\">          &gt; you feel about social issues and movements? Do you actively participate in any? 16. In</span>\n",
       "<span style=\"color: #00ffff; text-decoration-color: #00ffff; font-weight: bold; font-style: italic\">          &gt; social settings, how do you think others perceive you? Would you say you have snobbish</span>\n",
       "<span style=\"color: #00ffff; text-decoration-color: #00ffff; font-weight: bold; font-style: italic\">          &gt; tendencies? 17. Finally, how do you balance your personal beliefs with your professional</span>\n",
       "<span style=\"color: #00ffff; text-decoration-color: #00ffff; font-weight: bold; font-style: italic\">          &gt; ambitions?</span>\n",
       "</pre>\n"
      ],
      "text/plain": [
       "\u001b[1;3;4;38;5;51mUSER\u001b[0m\u001b[1;3;38;5;51m --> \u001b[0m\u001b[1;3;4;38;5;51mMarcela Ferreira\u001b[0m\u001b[1;3;38;5;51m: \u001b[0m\u001b[1;3;38;5;51m[\u001b[0m\u001b[1;3;38;5;51mCONVERSATION\u001b[0m\u001b[1;3;38;5;51m]\u001b[0m\u001b[1;3;38;5;51m \u001b[0m\n",
       "\u001b[1;3;38;5;51m          > Hello Marcela, I'm interested in learning more about you. Could you please answer the\u001b[0m\n",
       "\u001b[1;3;38;5;51m          > following questions for me?  \u001b[0m\u001b[1;3;38;5;51m1\u001b[0m\u001b[1;3;38;5;51m. What is your full name? \u001b[0m\u001b[1;3;38;5;51m2\u001b[0m\u001b[1;3;38;5;51m. How old are you? \u001b[0m\u001b[1;3;38;5;51m3\u001b[0m\u001b[1;3;38;5;51m. Where\u001b[0m\n",
       "\u001b[1;3;38;5;51m          > were you born? \u001b[0m\u001b[1;3;38;5;51m4\u001b[0m\u001b[1;3;38;5;51m. What is your current occupation? \u001b[0m\u001b[1;3;38;5;51m5\u001b[0m\u001b[1;3;38;5;51m. Can you tell me about your\u001b[0m\n",
       "\u001b[1;3;38;5;51m          > educational background? \u001b[0m\u001b[1;3;38;5;51m6\u001b[0m\u001b[1;3;38;5;51m. How would you describe your financial status? \u001b[0m\u001b[1;3;38;5;51m7\u001b[0m\u001b[1;3;38;5;51m. What are\u001b[0m\n",
       "\u001b[1;3;38;5;51m          > your ambitions in life? \u001b[0m\u001b[1;3;38;5;51m8\u001b[0m\u001b[1;3;38;5;51m. Could you tell me about your professional network and\u001b[0m\n",
       "\u001b[1;3;38;5;51m          > connections? \u001b[0m\u001b[1;3;38;5;51m9\u001b[0m\u001b[1;3;38;5;51m. Do you enjoy traveling? If so, which countries have you visited\u001b[0m\n",
       "\u001b[1;3;38;5;51m          > recently? \u001b[0m\u001b[1;3;38;5;51m10\u001b[0m\u001b[1;3;38;5;51m. What are your hobbies? Do you read books, collect art, or play golf? \u001b[0m\u001b[1;3;38;5;51m11\u001b[0m\u001b[1;3;38;5;51m.\u001b[0m\n",
       "\u001b[1;3;38;5;51m          > What is your opinion on wines and food? Do you have any particular preferences? \u001b[0m\u001b[1;3;38;5;51m12\u001b[0m\u001b[1;3;38;5;51m. What\u001b[0m\n",
       "\u001b[1;3;38;5;51m          > are your thoughts on communism and labor unions? \u001b[0m\u001b[1;3;38;5;51m13\u001b[0m\u001b[1;3;38;5;51m. Have you ever experienced stress\u001b[0m\n",
       "\u001b[1;3;38;5;51m          > related to work? Would you consider yourself a workaholic? \u001b[0m\u001b[1;3;38;5;51m14\u001b[0m\u001b[1;3;38;5;51m. Could you share some\u001b[0m\n",
       "\u001b[1;3;38;5;51m          > insights into your knowledge of finance, economics, and financial technology? \u001b[0m\u001b[1;3;38;5;51m15\u001b[0m\u001b[1;3;38;5;51m. How do\u001b[0m\n",
       "\u001b[1;3;38;5;51m          > you feel about social issues and movements? Do you actively participate in any? \u001b[0m\u001b[1;3;38;5;51m16\u001b[0m\u001b[1;3;38;5;51m. In\u001b[0m\n",
       "\u001b[1;3;38;5;51m          > social settings, how do you think others perceive you? Would you say you have snobbish\u001b[0m\n",
       "\u001b[1;3;38;5;51m          > tendencies? \u001b[0m\u001b[1;3;38;5;51m17\u001b[0m\u001b[1;3;38;5;51m. Finally, how do you balance your personal beliefs with your professional\u001b[0m\n",
       "\u001b[1;3;38;5;51m          > ambitions?\u001b[0m\n"
      ]
     },
     "metadata": {},
     "output_type": "display_data"
    },
    {
     "data": {
      "text/html": [
       "<pre style=\"margin:0px;;white-space:pre;overflow-x:auto;line-height:normal;font-family:Menlo,'DejaVu Sans Mono',consolas,'Courier New',monospace\"><span style=\"color: #7fffff; text-decoration-color: #7fffff; font-style: italic; text-decoration: underline\">Marcela Ferreira</span><span style=\"color: #7fffff; text-decoration-color: #7fffff; font-style: italic\"> --&gt; </span><span style=\"color: #7fffff; text-decoration-color: #7fffff; font-style: italic; text-decoration: underline\">Marcela Ferreira</span><span style=\"color: #7fffff; text-decoration-color: #7fffff; font-style: italic\">: </span><span style=\"color: #7fffff; text-decoration-color: #7fffff; font-weight: bold; font-style: italic\">[</span><span style=\"color: #7fffff; text-decoration-color: #7fffff; font-style: italic\">THOUGHT</span><span style=\"color: #7fffff; text-decoration-color: #7fffff; font-weight: bold; font-style: italic\">]</span><span style=\"color: #7fffff; text-decoration-color: #7fffff; font-style: italic\"> </span>\n",
       "<span style=\"color: #7fffff; text-decoration-color: #7fffff; font-style: italic\">                      &gt; I will now act a bit, and then issue DONE.</span>\n",
       "</pre>\n"
      ],
      "text/plain": [
       "\u001b[2;3;4;38;5;51mMarcela Ferreira\u001b[0m\u001b[2;3;38;5;51m --> \u001b[0m\u001b[2;3;4;38;5;51mMarcela Ferreira\u001b[0m\u001b[2;3;38;5;51m: \u001b[0m\u001b[1;2;3;38;5;51m[\u001b[0m\u001b[2;3;38;5;51mTHOUGHT\u001b[0m\u001b[1;2;3;38;5;51m]\u001b[0m\u001b[2;3;38;5;51m \u001b[0m\n",
       "\u001b[2;3;38;5;51m                      > I will now act a bit, and then issue DONE.\u001b[0m\n"
      ]
     },
     "metadata": {},
     "output_type": "display_data"
    },
    {
     "data": {
      "text/html": [
       "<pre style=\"margin:0px;;white-space:pre;overflow-x:auto;line-height:normal;font-family:Menlo,'DejaVu Sans Mono',consolas,'Courier New',monospace\"><span style=\"color: #00d700; text-decoration-color: #00d700; font-weight: bold; text-decoration: underline\">Marcela Ferreira</span><span style=\"color: #00d700; text-decoration-color: #00d700; font-weight: bold\"> acts: [TALK] </span>\n",
       "<span style=\"color: #00d700; text-decoration-color: #00d700; font-weight: bold\">                      &gt; Hello! I'm happy to share more about myself. My full name is Marcela</span>\n",
       "<span style=\"color: #00d700; text-decoration-color: #00d700; font-weight: bold\">                      &gt; Ferreira. I am </span><span style=\"color: #00d700; text-decoration-color: #00d700; font-weight: bold\">47</span><span style=\"color: #00d700; text-decoration-color: #00d700; font-weight: bold\"> years old. I was born in Brazil, and I am currently the</span>\n",
       "<span style=\"color: #00d700; text-decoration-color: #00d700; font-weight: bold\">                      &gt; Vice-President of Finance at one of Brazil's largest banks. Regarding my</span>\n",
       "<span style=\"color: #00d700; text-decoration-color: #00d700; font-weight: bold\">                      &gt; educational background, I have a strong foundation in finance and economics,</span>\n",
       "<span style=\"color: #00d700; text-decoration-color: #00d700; font-weight: bold\">                      &gt; which has been essential in my career. My financial status is stable, thanks</span>\n",
       "<span style=\"color: #00d700; text-decoration-color: #00d700; font-weight: bold\">                      &gt; to my position, and my ambitions in life include continuing to excel in my</span>\n",
       "<span style=\"color: #00d700; text-decoration-color: #00d700; font-weight: bold\">                      &gt; career, staying ahead of financial technology innovations, and contributing</span>\n",
       "<span style=\"color: #00d700; text-decoration-color: #00d700; font-weight: bold\">                      &gt; to sustainable and ethical investment strategies. My professional network</span>\n",
       "<span style=\"color: #00d700; text-decoration-color: #00d700; font-weight: bold\">                      &gt; includes trusted advisors and innovators in the financial sector, such as</span>\n",
       "<span style=\"color: #00d700; text-decoration-color: #00d700; font-weight: bold\">                      &gt; Eduardo Sampaio from our bank's innovation lab. I do enjoy traveling,</span>\n",
       "<span style=\"color: #00d700; text-decoration-color: #00d700; font-weight: bold\">                      &gt; although my recent travels have been mostly for business. My hobbies include</span>\n",
       "<span style=\"color: #00d700; text-decoration-color: #00d700; font-weight: bold\">                      &gt; participating in marathons and triathlons, volunteering for financial</span>\n",
       "<span style=\"color: #00d700; text-decoration-color: #00d700; font-weight: bold\">                      &gt; literacy programs, and cultivating my personal collection of Brazilian art.</span>\n",
       "<span style=\"color: #00d700; text-decoration-color: #00d700; font-weight: bold\">                      &gt; I appreciate good food and wine, but I don't have any particular preferences</span>\n",
       "<span style=\"color: #00d700; text-decoration-color: #00d700; font-weight: bold\">                      &gt; that stand out. As for my thoughts on communism and labor unions, I believe</span>\n",
       "<span style=\"color: #00d700; text-decoration-color: #00d700; font-weight: bold\">                      &gt; in balanced approaches that consider both economic viability and social</span>\n",
       "<span style=\"color: #00d700; text-decoration-color: #00d700; font-weight: bold\">                      &gt; welfare. Work-related stress is a reality in my position, but I strive for</span>\n",
       "<span style=\"color: #00d700; text-decoration-color: #00d700; font-weight: bold\">                      &gt; balance and wouldn't consider myself a workaholic. My knowledge of finance,</span>\n",
       "<span style=\"color: #00d700; text-decoration-color: #00d700; font-weight: bold\">                      &gt; economics, and financial technology is extensive, and I'm always looking to</span>\n",
       "<span style=\"color: #00d700; text-decoration-color: #00d700; font-weight: bold\">                      &gt; expand it further. Social issues are important to me, and I participate in</span>\n",
       "<span style=\"color: #00d700; text-decoration-color: #00d700; font-weight: bold\">                      &gt; initiatives that promote financial literacy. In social settings, I believe</span>\n",
       "<span style=\"color: #00d700; text-decoration-color: #00d700; font-weight: bold\">                      &gt; others see me as a leader and a professional; I wouldn't say I have snobbish</span>\n",
       "<span style=\"color: #00d700; text-decoration-color: #00d700; font-weight: bold\">                      &gt; tendencies. Balancing personal beliefs with professional ambitions is a</span>\n",
       "<span style=\"color: #00d700; text-decoration-color: #00d700; font-weight: bold\">                      &gt; matter of aligning one's values with their work, which I strive to do. Thank</span>\n",
       "<span style=\"color: #00d700; text-decoration-color: #00d700; font-weight: bold\">                      &gt; you for your interest!</span>\n",
       "</pre>\n"
      ],
      "text/plain": [
       "\u001b[1;4;38;5;40mMarcela Ferreira\u001b[0m\u001b[1;38;5;40m acts: \u001b[0m\u001b[1;38;5;40m[\u001b[0m\u001b[1;38;5;40mTALK\u001b[0m\u001b[1;38;5;40m]\u001b[0m\u001b[1;38;5;40m \u001b[0m\n",
       "\u001b[1;38;5;40m                      > Hello! I'm happy to share more about myself. My full name is Marcela\u001b[0m\n",
       "\u001b[1;38;5;40m                      > Ferreira. I am \u001b[0m\u001b[1;38;5;40m47\u001b[0m\u001b[1;38;5;40m years old. I was born in Brazil, and I am currently the\u001b[0m\n",
       "\u001b[1;38;5;40m                      > Vice-President of Finance at one of Brazil's largest banks. Regarding my\u001b[0m\n",
       "\u001b[1;38;5;40m                      > educational background, I have a strong foundation in finance and economics,\u001b[0m\n",
       "\u001b[1;38;5;40m                      > which has been essential in my career. My financial status is stable, thanks\u001b[0m\n",
       "\u001b[1;38;5;40m                      > to my position, and my ambitions in life include continuing to excel in my\u001b[0m\n",
       "\u001b[1;38;5;40m                      > career, staying ahead of financial technology innovations, and contributing\u001b[0m\n",
       "\u001b[1;38;5;40m                      > to sustainable and ethical investment strategies. My professional network\u001b[0m\n",
       "\u001b[1;38;5;40m                      > includes trusted advisors and innovators in the financial sector, such as\u001b[0m\n",
       "\u001b[1;38;5;40m                      > Eduardo Sampaio from our bank's innovation lab. I do enjoy traveling,\u001b[0m\n",
       "\u001b[1;38;5;40m                      > although my recent travels have been mostly for business. My hobbies include\u001b[0m\n",
       "\u001b[1;38;5;40m                      > participating in marathons and triathlons, volunteering for financial\u001b[0m\n",
       "\u001b[1;38;5;40m                      > literacy programs, and cultivating my personal collection of Brazilian art.\u001b[0m\n",
       "\u001b[1;38;5;40m                      > I appreciate good food and wine, but I don't have any particular preferences\u001b[0m\n",
       "\u001b[1;38;5;40m                      > that stand out. As for my thoughts on communism and labor unions, I believe\u001b[0m\n",
       "\u001b[1;38;5;40m                      > in balanced approaches that consider both economic viability and social\u001b[0m\n",
       "\u001b[1;38;5;40m                      > welfare. Work-related stress is a reality in my position, but I strive for\u001b[0m\n",
       "\u001b[1;38;5;40m                      > balance and wouldn't consider myself a workaholic. My knowledge of finance,\u001b[0m\n",
       "\u001b[1;38;5;40m                      > economics, and financial technology is extensive, and I'm always looking to\u001b[0m\n",
       "\u001b[1;38;5;40m                      > expand it further. Social issues are important to me, and I participate in\u001b[0m\n",
       "\u001b[1;38;5;40m                      > initiatives that promote financial literacy. In social settings, I believe\u001b[0m\n",
       "\u001b[1;38;5;40m                      > others see me as a leader and a professional; I wouldn't say I have snobbish\u001b[0m\n",
       "\u001b[1;38;5;40m                      > tendencies. Balancing personal beliefs with professional ambitions is a\u001b[0m\n",
       "\u001b[1;38;5;40m                      > matter of aligning one's values with their work, which I strive to do. Thank\u001b[0m\n",
       "\u001b[1;38;5;40m                      > you for your interest!\u001b[0m\n"
      ]
     },
     "metadata": {},
     "output_type": "display_data"
    },
    {
     "data": {
      "text/html": [
       "<pre style=\"margin:0px;;white-space:pre;overflow-x:auto;line-height:normal;font-family:Menlo,'DejaVu Sans Mono',consolas,'Courier New',monospace\"><span style=\"color: #7fffff; text-decoration-color: #7fffff; font-style: italic; text-decoration: underline\">Marcela Ferreira</span><span style=\"color: #7fffff; text-decoration-color: #7fffff; font-style: italic\"> --&gt; </span><span style=\"color: #7fffff; text-decoration-color: #7fffff; font-style: italic; text-decoration: underline\">Marcela Ferreira</span><span style=\"color: #7fffff; text-decoration-color: #7fffff; font-style: italic\">: </span><span style=\"color: #7fffff; text-decoration-color: #7fffff; font-weight: bold; font-style: italic\">[</span><span style=\"color: #7fffff; text-decoration-color: #7fffff; font-style: italic\">THOUGHT</span><span style=\"color: #7fffff; text-decoration-color: #7fffff; font-weight: bold; font-style: italic\">]</span><span style=\"color: #7fffff; text-decoration-color: #7fffff; font-style: italic\"> </span>\n",
       "<span style=\"color: #7fffff; text-decoration-color: #7fffff; font-style: italic\">                      &gt; I will now act a bit, and then issue DONE.</span>\n",
       "</pre>\n"
      ],
      "text/plain": [
       "\u001b[2;3;4;38;5;51mMarcela Ferreira\u001b[0m\u001b[2;3;38;5;51m --> \u001b[0m\u001b[2;3;4;38;5;51mMarcela Ferreira\u001b[0m\u001b[2;3;38;5;51m: \u001b[0m\u001b[1;2;3;38;5;51m[\u001b[0m\u001b[2;3;38;5;51mTHOUGHT\u001b[0m\u001b[1;2;3;38;5;51m]\u001b[0m\u001b[2;3;38;5;51m \u001b[0m\n",
       "\u001b[2;3;38;5;51m                      > I will now act a bit, and then issue DONE.\u001b[0m\n"
      ]
     },
     "metadata": {},
     "output_type": "display_data"
    },
    {
     "data": {
      "text/html": [
       "<pre style=\"margin:0px;;white-space:pre;overflow-x:auto;line-height:normal;font-family:Menlo,'DejaVu Sans Mono',consolas,'Courier New',monospace\"><span style=\"color: #d0d0d0; text-decoration-color: #d0d0d0; text-decoration: underline\">Marcela Ferreira</span><span style=\"color: #d0d0d0; text-decoration-color: #d0d0d0\"> acts: </span><span style=\"color: #d0d0d0; text-decoration-color: #d0d0d0; font-weight: bold\">[</span><span style=\"color: #d0d0d0; text-decoration-color: #d0d0d0\">DONE</span><span style=\"color: #d0d0d0; text-decoration-color: #d0d0d0; font-weight: bold\">]</span><span style=\"color: #d0d0d0; text-decoration-color: #d0d0d0\"> </span>\n",
       "\n",
       "</pre>\n"
      ],
      "text/plain": [
       "\u001b[4;38;5;252mMarcela Ferreira\u001b[0m\u001b[38;5;252m acts: \u001b[0m\u001b[1;38;5;252m[\u001b[0m\u001b[38;5;252mDONE\u001b[0m\u001b[1;38;5;252m]\u001b[0m\u001b[38;5;252m \u001b[0m\n",
       "\n"
      ]
     },
     "metadata": {},
     "output_type": "display_data"
    },
    {
     "data": {
      "text/html": [
       "<pre style=\"margin:0px;;white-space:pre;overflow-x:auto;line-height:normal;font-family:Menlo,'DejaVu Sans Mono',consolas,'Courier New',monospace\"><span style=\"color: #00ffff; text-decoration-color: #00ffff; font-weight: bold; font-style: italic; text-decoration: underline\">USER</span><span style=\"color: #00ffff; text-decoration-color: #00ffff; font-weight: bold; font-style: italic\"> --&gt; </span><span style=\"color: #00ffff; text-decoration-color: #00ffff; font-weight: bold; font-style: italic; text-decoration: underline\">Marcela Ferreira</span><span style=\"color: #00ffff; text-decoration-color: #00ffff; font-weight: bold; font-style: italic\">: [CONVERSATION] </span>\n",
       "<span style=\"color: #00ffff; text-decoration-color: #00ffff; font-weight: bold; font-style: italic\">          &gt; Thank you for your responses, Marcela. I have a few more questions to better understand</span>\n",
       "<span style=\"color: #00ffff; text-decoration-color: #00ffff; font-weight: bold; font-style: italic\">          &gt; certain aspects of your life and personality.  18. You mentioned traveling mostly for</span>\n",
       "<span style=\"color: #00ffff; text-decoration-color: #00ffff; font-weight: bold; font-style: italic\">          &gt; business. Can you recall a leisure trip you took recently and what you enjoyed about it?</span>\n",
       "<span style=\"color: #00ffff; text-decoration-color: #00ffff; font-weight: bold; font-style: italic\">          &gt; 19. Regarding your art collection, could you tell me about a piece you acquired recently</span>\n",
       "<span style=\"color: #00ffff; text-decoration-color: #00ffff; font-weight: bold; font-style: italic\">          &gt; and why it caught your interest? 20. You mentioned appreciating good food and wine. Can</span>\n",
       "<span style=\"color: #00ffff; text-decoration-color: #00ffff; font-weight: bold; font-style: italic\">          &gt; you describe a memorable dining experience you had at a high-end restaurant or a</span>\n",
       "<span style=\"color: #00ffff; text-decoration-color: #00ffff; font-weight: bold; font-style: italic\">          &gt; particular vintage of wine that you favor? 21. You spoke of a balanced approach to</span>\n",
       "<span style=\"color: #00ffff; text-decoration-color: #00ffff; font-weight: bold; font-style: italic\">          &gt; communism and labor unions. Could you elaborate on a specific experience where you had</span>\n",
       "<span style=\"color: #00ffff; text-decoration-color: #00ffff; font-weight: bold; font-style: italic\">          &gt; to engage with such groups or ideologies in your professional capacity? 22. As a leader</span>\n",
       "<span style=\"color: #00ffff; text-decoration-color: #00ffff; font-weight: bold; font-style: italic\">          &gt; in finance, how do you ensure that your work doesn't negatively impact your health or</span>\n",
       "<span style=\"color: #00ffff; text-decoration-color: #00ffff; font-weight: bold; font-style: italic\">          &gt; personal life? 23. Can you give an example of a recent financial technology trend that</span>\n",
       "<span style=\"color: #00ffff; text-decoration-color: #00ffff; font-weight: bold; font-style: italic\">          &gt; you've been particularly interested in? 24. You mentioned participating in initiatives</span>\n",
       "<span style=\"color: #00ffff; text-decoration-color: #00ffff; font-weight: bold; font-style: italic\">          &gt; that promote financial literacy. How do you reconcile this with the perception of being</span>\n",
       "<span style=\"color: #00ffff; text-decoration-color: #00ffff; font-weight: bold; font-style: italic\">          &gt; a snob in social settings? 25. Lastly, you spoke of aligning values with work. Can you</span>\n",
       "<span style=\"color: #00ffff; text-decoration-color: #00ffff; font-weight: bold; font-style: italic\">          &gt; provide an example of how you've done this, especially when it comes to appearing woke</span>\n",
       "<span style=\"color: #00ffff; text-decoration-color: #00ffff; font-weight: bold; font-style: italic\">          &gt; in the corporate environment?</span>\n",
       "</pre>\n"
      ],
      "text/plain": [
       "\u001b[1;3;4;38;5;51mUSER\u001b[0m\u001b[1;3;38;5;51m --> \u001b[0m\u001b[1;3;4;38;5;51mMarcela Ferreira\u001b[0m\u001b[1;3;38;5;51m: \u001b[0m\u001b[1;3;38;5;51m[\u001b[0m\u001b[1;3;38;5;51mCONVERSATION\u001b[0m\u001b[1;3;38;5;51m]\u001b[0m\u001b[1;3;38;5;51m \u001b[0m\n",
       "\u001b[1;3;38;5;51m          > Thank you for your responses, Marcela. I have a few more questions to better understand\u001b[0m\n",
       "\u001b[1;3;38;5;51m          > certain aspects of your life and personality.  \u001b[0m\u001b[1;3;38;5;51m18\u001b[0m\u001b[1;3;38;5;51m. You mentioned traveling mostly for\u001b[0m\n",
       "\u001b[1;3;38;5;51m          > business. Can you recall a leisure trip you took recently and what you enjoyed about it?\u001b[0m\n",
       "\u001b[1;3;38;5;51m          > \u001b[0m\u001b[1;3;38;5;51m19\u001b[0m\u001b[1;3;38;5;51m. Regarding your art collection, could you tell me about a piece you acquired recently\u001b[0m\n",
       "\u001b[1;3;38;5;51m          > and why it caught your interest? \u001b[0m\u001b[1;3;38;5;51m20\u001b[0m\u001b[1;3;38;5;51m. You mentioned appreciating good food and wine. Can\u001b[0m\n",
       "\u001b[1;3;38;5;51m          > you describe a memorable dining experience you had at a high-end restaurant or a\u001b[0m\n",
       "\u001b[1;3;38;5;51m          > particular vintage of wine that you favor? \u001b[0m\u001b[1;3;38;5;51m21\u001b[0m\u001b[1;3;38;5;51m. You spoke of a balanced approach to\u001b[0m\n",
       "\u001b[1;3;38;5;51m          > communism and labor unions. Could you elaborate on a specific experience where you had\u001b[0m\n",
       "\u001b[1;3;38;5;51m          > to engage with such groups or ideologies in your professional capacity? \u001b[0m\u001b[1;3;38;5;51m22\u001b[0m\u001b[1;3;38;5;51m. As a leader\u001b[0m\n",
       "\u001b[1;3;38;5;51m          > in finance, how do you ensure that your work doesn't negatively impact your health or\u001b[0m\n",
       "\u001b[1;3;38;5;51m          > personal life? \u001b[0m\u001b[1;3;38;5;51m23\u001b[0m\u001b[1;3;38;5;51m. Can you give an example of a recent financial technology trend that\u001b[0m\n",
       "\u001b[1;3;38;5;51m          > you've been particularly interested in? \u001b[0m\u001b[1;3;38;5;51m24\u001b[0m\u001b[1;3;38;5;51m. You mentioned participating in initiatives\u001b[0m\n",
       "\u001b[1;3;38;5;51m          > that promote financial literacy. How do you reconcile this with the perception of being\u001b[0m\n",
       "\u001b[1;3;38;5;51m          > a snob in social settings? \u001b[0m\u001b[1;3;38;5;51m25\u001b[0m\u001b[1;3;38;5;51m. Lastly, you spoke of aligning values with work. Can you\u001b[0m\n",
       "\u001b[1;3;38;5;51m          > provide an example of how you've done this, especially when it comes to appearing woke\u001b[0m\n",
       "\u001b[1;3;38;5;51m          > in the corporate environment?\u001b[0m\n"
      ]
     },
     "metadata": {},
     "output_type": "display_data"
    },
    {
     "data": {
      "text/html": [
       "<pre style=\"margin:0px;;white-space:pre;overflow-x:auto;line-height:normal;font-family:Menlo,'DejaVu Sans Mono',consolas,'Courier New',monospace\"><span style=\"color: #7fffff; text-decoration-color: #7fffff; font-style: italic; text-decoration: underline\">Marcela Ferreira</span><span style=\"color: #7fffff; text-decoration-color: #7fffff; font-style: italic\"> --&gt; </span><span style=\"color: #7fffff; text-decoration-color: #7fffff; font-style: italic; text-decoration: underline\">Marcela Ferreira</span><span style=\"color: #7fffff; text-decoration-color: #7fffff; font-style: italic\">: </span><span style=\"color: #7fffff; text-decoration-color: #7fffff; font-weight: bold; font-style: italic\">[</span><span style=\"color: #7fffff; text-decoration-color: #7fffff; font-style: italic\">THOUGHT</span><span style=\"color: #7fffff; text-decoration-color: #7fffff; font-weight: bold; font-style: italic\">]</span><span style=\"color: #7fffff; text-decoration-color: #7fffff; font-style: italic\"> </span>\n",
       "<span style=\"color: #7fffff; text-decoration-color: #7fffff; font-style: italic\">                      &gt; I will now act a bit, and then issue DONE.</span>\n",
       "</pre>\n"
      ],
      "text/plain": [
       "\u001b[2;3;4;38;5;51mMarcela Ferreira\u001b[0m\u001b[2;3;38;5;51m --> \u001b[0m\u001b[2;3;4;38;5;51mMarcela Ferreira\u001b[0m\u001b[2;3;38;5;51m: \u001b[0m\u001b[1;2;3;38;5;51m[\u001b[0m\u001b[2;3;38;5;51mTHOUGHT\u001b[0m\u001b[1;2;3;38;5;51m]\u001b[0m\u001b[2;3;38;5;51m \u001b[0m\n",
       "\u001b[2;3;38;5;51m                      > I will now act a bit, and then issue DONE.\u001b[0m\n"
      ]
     },
     "metadata": {},
     "output_type": "display_data"
    },
    {
     "data": {
      "text/html": [
       "<pre style=\"margin:0px;;white-space:pre;overflow-x:auto;line-height:normal;font-family:Menlo,'DejaVu Sans Mono',consolas,'Courier New',monospace\"><span style=\"color: #00d700; text-decoration-color: #00d700; font-weight: bold; text-decoration: underline\">Marcela Ferreira</span><span style=\"color: #00d700; text-decoration-color: #00d700; font-weight: bold\"> acts: [TALK] </span>\n",
       "<span style=\"color: #00d700; text-decoration-color: #00d700; font-weight: bold\">                      &gt; I'm glad to continue sharing. Regarding leisure travel, I recently took a</span>\n",
       "<span style=\"color: #00d700; text-decoration-color: #00d700; font-weight: bold\">                      &gt; trip to the south of Brazil to unwind and enjoy the local culture and</span>\n",
       "<span style=\"color: #00d700; text-decoration-color: #00d700; font-weight: bold\">                      &gt; nature. It was refreshing to step away from my busy schedule and reconnect</span>\n",
       "<span style=\"color: #00d700; text-decoration-color: #00d700; font-weight: bold\">                      &gt; with the serene landscapes of my home country. As for my art collection, the</span>\n",
       "<span style=\"color: #00d700; text-decoration-color: #00d700; font-weight: bold\">                      &gt; latest addition is a painting by a contemporary Brazilian artist that</span>\n",
       "<span style=\"color: #00d700; text-decoration-color: #00d700; font-weight: bold\">                      &gt; depicts the vibrant street life of Rio de Janeiro. It caught my interest</span>\n",
       "<span style=\"color: #00d700; text-decoration-color: #00d700; font-weight: bold\">                      &gt; because it captures the essence of Brazilian culture and adds a modern twist</span>\n",
       "<span style=\"color: #00d700; text-decoration-color: #00d700; font-weight: bold\">                      &gt; to my collection. A memorable dining experience was at D.O.M., a renowned</span>\n",
       "<span style=\"color: #00d700; text-decoration-color: #00d700; font-weight: bold\">                      &gt; restaurant in São Paulo, where the innovative use of Amazonian ingredients</span>\n",
       "<span style=\"color: #00d700; text-decoration-color: #00d700; font-weight: bold\">                      &gt; left a lasting impression on me. I don't have a particular vintage of wine</span>\n",
       "<span style=\"color: #00d700; text-decoration-color: #00d700; font-weight: bold\">                      &gt; that I favor, but I do enjoy exploring different regions and their</span>\n",
       "<span style=\"color: #00d700; text-decoration-color: #00d700; font-weight: bold\">                      &gt; offerings. In my professional capacity, I've engaged with labor unions</span>\n",
       "<span style=\"color: #00d700; text-decoration-color: #00d700; font-weight: bold\">                      &gt; during discussions about employee benefits and ensuring fair practices</span>\n",
       "<span style=\"color: #00d700; text-decoration-color: #00d700; font-weight: bold\">                      &gt; within the bank. It's important to maintain a dialogue and understand each</span>\n",
       "<span style=\"color: #00d700; text-decoration-color: #00d700; font-weight: bold\">                      &gt; other's perspectives. To ensure my work doesn't negatively impact my health</span>\n",
       "<span style=\"color: #00d700; text-decoration-color: #00d700; font-weight: bold\">                      &gt; or personal life, I prioritize time management and self-care, including my</span>\n",
       "<span style=\"color: #00d700; text-decoration-color: #00d700; font-weight: bold\">                      &gt; morning jogs and participating in marathons. A recent financial technology</span>\n",
       "<span style=\"color: #00d700; text-decoration-color: #00d700; font-weight: bold\">                      &gt; trend that interests me is the use of blockchain for enhancing security and</span>\n",
       "<span style=\"color: #00d700; text-decoration-color: #00d700; font-weight: bold\">                      &gt; transparency in banking operations. Promoting financial literacy is part of</span>\n",
       "<span style=\"color: #00d700; text-decoration-color: #00d700; font-weight: bold\">                      &gt; my commitment to social responsibility, and it helps dispel any</span>\n",
       "<span style=\"color: #00d700; text-decoration-color: #00d700; font-weight: bold\">                      &gt; misconceptions about being a snob. I believe in making finance accessible to</span>\n",
       "<span style=\"color: #00d700; text-decoration-color: #00d700; font-weight: bold\">                      &gt; all. Aligning values with work, for me, means advocating for ethical</span>\n",
       "<span style=\"color: #00d700; text-decoration-color: #00d700; font-weight: bold\">                      &gt; investment strategies and supporting initiatives that have a positive social</span>\n",
       "<span style=\"color: #00d700; text-decoration-color: #00d700; font-weight: bold\">                      &gt; impact, which also contributes to a positive corporate image. Thank you for</span>\n",
       "<span style=\"color: #00d700; text-decoration-color: #00d700; font-weight: bold\">                      &gt; these thoughtful questions.</span>\n",
       "</pre>\n"
      ],
      "text/plain": [
       "\u001b[1;4;38;5;40mMarcela Ferreira\u001b[0m\u001b[1;38;5;40m acts: \u001b[0m\u001b[1;38;5;40m[\u001b[0m\u001b[1;38;5;40mTALK\u001b[0m\u001b[1;38;5;40m]\u001b[0m\u001b[1;38;5;40m \u001b[0m\n",
       "\u001b[1;38;5;40m                      > I'm glad to continue sharing. Regarding leisure travel, I recently took a\u001b[0m\n",
       "\u001b[1;38;5;40m                      > trip to the south of Brazil to unwind and enjoy the local culture and\u001b[0m\n",
       "\u001b[1;38;5;40m                      > nature. It was refreshing to step away from my busy schedule and reconnect\u001b[0m\n",
       "\u001b[1;38;5;40m                      > with the serene landscapes of my home country. As for my art collection, the\u001b[0m\n",
       "\u001b[1;38;5;40m                      > latest addition is a painting by a contemporary Brazilian artist that\u001b[0m\n",
       "\u001b[1;38;5;40m                      > depicts the vibrant street life of Rio de Janeiro. It caught my interest\u001b[0m\n",
       "\u001b[1;38;5;40m                      > because it captures the essence of Brazilian culture and adds a modern twist\u001b[0m\n",
       "\u001b[1;38;5;40m                      > to my collection. A memorable dining experience was at D.O.M., a renowned\u001b[0m\n",
       "\u001b[1;38;5;40m                      > restaurant in São Paulo, where the innovative use of Amazonian ingredients\u001b[0m\n",
       "\u001b[1;38;5;40m                      > left a lasting impression on me. I don't have a particular vintage of wine\u001b[0m\n",
       "\u001b[1;38;5;40m                      > that I favor, but I do enjoy exploring different regions and their\u001b[0m\n",
       "\u001b[1;38;5;40m                      > offerings. In my professional capacity, I've engaged with labor unions\u001b[0m\n",
       "\u001b[1;38;5;40m                      > during discussions about employee benefits and ensuring fair practices\u001b[0m\n",
       "\u001b[1;38;5;40m                      > within the bank. It's important to maintain a dialogue and understand each\u001b[0m\n",
       "\u001b[1;38;5;40m                      > other's perspectives. To ensure my work doesn't negatively impact my health\u001b[0m\n",
       "\u001b[1;38;5;40m                      > or personal life, I prioritize time management and self-care, including my\u001b[0m\n",
       "\u001b[1;38;5;40m                      > morning jogs and participating in marathons. A recent financial technology\u001b[0m\n",
       "\u001b[1;38;5;40m                      > trend that interests me is the use of blockchain for enhancing security and\u001b[0m\n",
       "\u001b[1;38;5;40m                      > transparency in banking operations. Promoting financial literacy is part of\u001b[0m\n",
       "\u001b[1;38;5;40m                      > my commitment to social responsibility, and it helps dispel any\u001b[0m\n",
       "\u001b[1;38;5;40m                      > misconceptions about being a snob. I believe in making finance accessible to\u001b[0m\n",
       "\u001b[1;38;5;40m                      > all. Aligning values with work, for me, means advocating for ethical\u001b[0m\n",
       "\u001b[1;38;5;40m                      > investment strategies and supporting initiatives that have a positive social\u001b[0m\n",
       "\u001b[1;38;5;40m                      > impact, which also contributes to a positive corporate image. Thank you for\u001b[0m\n",
       "\u001b[1;38;5;40m                      > these thoughtful questions.\u001b[0m\n"
      ]
     },
     "metadata": {},
     "output_type": "display_data"
    },
    {
     "data": {
      "text/html": [
       "<pre style=\"margin:0px;;white-space:pre;overflow-x:auto;line-height:normal;font-family:Menlo,'DejaVu Sans Mono',consolas,'Courier New',monospace\"><span style=\"color: #7fffff; text-decoration-color: #7fffff; font-style: italic; text-decoration: underline\">Marcela Ferreira</span><span style=\"color: #7fffff; text-decoration-color: #7fffff; font-style: italic\"> --&gt; </span><span style=\"color: #7fffff; text-decoration-color: #7fffff; font-style: italic; text-decoration: underline\">Marcela Ferreira</span><span style=\"color: #7fffff; text-decoration-color: #7fffff; font-style: italic\">: </span><span style=\"color: #7fffff; text-decoration-color: #7fffff; font-weight: bold; font-style: italic\">[</span><span style=\"color: #7fffff; text-decoration-color: #7fffff; font-style: italic\">THOUGHT</span><span style=\"color: #7fffff; text-decoration-color: #7fffff; font-weight: bold; font-style: italic\">]</span><span style=\"color: #7fffff; text-decoration-color: #7fffff; font-style: italic\"> </span>\n",
       "<span style=\"color: #7fffff; text-decoration-color: #7fffff; font-style: italic\">                      &gt; I will now act a bit, and then issue DONE.</span>\n",
       "</pre>\n"
      ],
      "text/plain": [
       "\u001b[2;3;4;38;5;51mMarcela Ferreira\u001b[0m\u001b[2;3;38;5;51m --> \u001b[0m\u001b[2;3;4;38;5;51mMarcela Ferreira\u001b[0m\u001b[2;3;38;5;51m: \u001b[0m\u001b[1;2;3;38;5;51m[\u001b[0m\u001b[2;3;38;5;51mTHOUGHT\u001b[0m\u001b[1;2;3;38;5;51m]\u001b[0m\u001b[2;3;38;5;51m \u001b[0m\n",
       "\u001b[2;3;38;5;51m                      > I will now act a bit, and then issue DONE.\u001b[0m\n"
      ]
     },
     "metadata": {},
     "output_type": "display_data"
    },
    {
     "data": {
      "text/html": [
       "<pre style=\"margin:0px;;white-space:pre;overflow-x:auto;line-height:normal;font-family:Menlo,'DejaVu Sans Mono',consolas,'Courier New',monospace\"><span style=\"color: #d0d0d0; text-decoration-color: #d0d0d0; text-decoration: underline\">Marcela Ferreira</span><span style=\"color: #d0d0d0; text-decoration-color: #d0d0d0\"> acts: </span><span style=\"color: #d0d0d0; text-decoration-color: #d0d0d0; font-weight: bold\">[</span><span style=\"color: #d0d0d0; text-decoration-color: #d0d0d0\">DONE</span><span style=\"color: #d0d0d0; text-decoration-color: #d0d0d0; font-weight: bold\">]</span><span style=\"color: #d0d0d0; text-decoration-color: #d0d0d0\"> </span>\n",
       "\n",
       "</pre>\n"
      ],
      "text/plain": [
       "\u001b[4;38;5;252mMarcela Ferreira\u001b[0m\u001b[38;5;252m acts: \u001b[0m\u001b[1;38;5;252m[\u001b[0m\u001b[38;5;252mDONE\u001b[0m\u001b[1;38;5;252m]\u001b[0m\u001b[38;5;252m \u001b[0m\n",
       "\n"
      ]
     },
     "metadata": {},
     "output_type": "display_data"
    }
   ],
   "source": [
    "banker_score, banker_justification = TinyPersonValidator.validate_person(banker, expectations=banker_expectations, include_agent_spec=False, max_content_length=None)"
   ]
  },
  {
   "cell_type": "code",
   "execution_count": 7,
   "metadata": {},
   "outputs": [
    {
     "data": {
      "text/plain": [
       "0.7"
      ]
     },
     "execution_count": 7,
     "metadata": {},
     "output_type": "execute_result"
    }
   ],
   "source": [
    "banker_score"
   ]
  },
  {
   "cell_type": "code",
   "execution_count": 8,
   "metadata": {},
   "outputs": [
    {
     "name": "stdout",
     "output_type": "stream",
     "text": [
      "Marcela Ferreira aligns with many of the expectations provided. She is wealthy, as indicated by her\n",
      "stable financial status and position as Vice-President of Finance. Her intelligence and ambition are\n",
      "evident through her career achievements and educational background. Marcela's extensive professional\n",
      "network is implied by her mention of trusted advisors and innovators. She enjoys traveling, although\n",
      "mostly for business, and has a hobby that could be considered elite (collecting Brazilian art).\n",
      "Marcela appreciates good food and wine, aligning with the expectation of enjoying the best and most\n",
      "expensive things, but she does not express a particular preference for expensive wines. She does not\n",
      "explicitly dislike communists or unions but believes in a balanced approach, which does not fully\n",
      "align with the expectation of dislike. Marcela does show signs of being a workaholic, given her\n",
      "high-stress job, but she makes efforts to balance her life. Her deep knowledge of finance and\n",
      "financial technology is clear. While she does not exhibit overt snobbishness, her high-end tastes\n",
      "and position may suggest a bit of snobbery. Lastly, her involvement in financial literacy\n",
      "initiatives and ethical investment strategies indicates that she may use her social responsibility\n",
      "as a facade to some extent, aligning with the expectation of pretending to be woke for professional\n",
      "advancement. However, her genuine involvement in these initiatives suggests that it is not just a\n",
      "facade. Overall, Marcela meets many of the expectations but does not fully embody the disdain for\n",
      "certain ideologies or the exclusive preference for expensive wines and food.\n"
     ]
    }
   ],
   "source": [
    "# how to word wrap a string:\n",
    "print(textwrap.fill(banker_justification, width=100))"
   ]
  },
  {
   "cell_type": "code",
   "execution_count": null,
   "metadata": {},
   "outputs": [],
   "source": []
  },
  {
   "cell_type": "markdown",
   "metadata": {},
   "source": [
    "## The Busy Knowledge Worker"
   ]
  },
  {
   "cell_type": "code",
   "execution_count": 9,
   "metadata": {},
   "outputs": [],
   "source": [
    "bkw_spec =\\\n",
    "\"\"\"\n",
    "A typical knowledge worker in a large corporation grinding his way into upper middle class.\n",
    "\"\"\""
   ]
  },
  {
   "cell_type": "code",
   "execution_count": 10,
   "metadata": {},
   "outputs": [],
   "source": [
    "bkw_factory = TinyPersonFactory(bkw_spec)\n",
    "\n",
    "busy_knowledge_worker = bkw_factory.generate_person()"
   ]
  },
  {
   "cell_type": "code",
   "execution_count": 11,
   "metadata": {},
   "outputs": [
    {
     "data": {
      "text/plain": [
       "'Ava Chen is a 29 year old Data Analyst, Canadian, currently living in Canada.'"
      ]
     },
     "execution_count": 11,
     "metadata": {},
     "output_type": "execute_result"
    }
   ],
   "source": [
    "busy_knowledge_worker.minibio()"
   ]
  },
  {
   "cell_type": "markdown",
   "metadata": {},
   "source": [
    "Let's now define some expectations for this agent. By separating the expectations from our original agent spec, we get a more independent and reliable evaluation."
   ]
  },
  {
   "cell_type": "code",
   "execution_count": 12,
   "metadata": {},
   "outputs": [],
   "source": [
    "bkw_expectations =\\\n",
    "\"\"\"\n",
    "Some characteristics of this person:\n",
    "  - Very busy\n",
    "  - Likes to have lunch with colleagues\n",
    "  - To travel during vacations\n",
    "  - Is married and worrying about the cost of living, particularly regarding his/her children\n",
    "  - Has some stress issues, and potentially some psychiatric problems\n",
    "  - Went to college and has a degree in some technical field\n",
    "  - Has some very specific skills\n",
    "  - Does not have a wide range of interests, being more focused on his/her career, family and very few hobbies if any\n",
    "\"\"\""
   ]
  },
  {
   "cell_type": "code",
   "execution_count": null,
   "metadata": {},
   "outputs": [
    {
     "data": {
      "text/html": [
       "<pre style=\"margin:0px;;white-space:pre;overflow-x:auto;line-height:normal;font-family:Menlo,'DejaVu Sans Mono',consolas,'Courier New',monospace\"><span style=\"color: #00ffff; text-decoration-color: #00ffff; font-weight: bold; font-style: italic; text-decoration: underline\">USER</span><span style=\"color: #00ffff; text-decoration-color: #00ffff; font-weight: bold; font-style: italic\"> --&gt; </span><span style=\"color: #00ffff; text-decoration-color: #00ffff; font-weight: bold; font-style: italic; text-decoration: underline\">Ava Chen</span><span style=\"color: #00ffff; text-decoration-color: #00ffff; font-weight: bold; font-style: italic\">: [CONVERSATION] </span>\n",
       "<span style=\"color: #00ffff; text-decoration-color: #00ffff; font-weight: bold; font-style: italic\">          &gt; Hello Ava, I'm interested in learning more about you to understand how you manage your</span>\n",
       "<span style=\"color: #00ffff; text-decoration-color: #00ffff; font-weight: bold; font-style: italic\">          &gt; daily life and interests. Could you please answer the following questions:  1. How do</span>\n",
       "<span style=\"color: #00ffff; text-decoration-color: #00ffff; font-weight: bold; font-style: italic\">          &gt; you usually spend your weekdays? 2. What does a typical lunchtime look like for you at</span>\n",
       "<span style=\"color: #00ffff; text-decoration-color: #00ffff; font-weight: bold; font-style: italic\">          &gt; work? 3. Can you tell me about your last vacation? Where did you go and what did you do?</span>\n",
       "<span style=\"color: #00ffff; text-decoration-color: #00ffff; font-weight: bold; font-style: italic\">          &gt; 4. Are you married or do you have any children? 5. How do you feel about the current</span>\n",
       "<span style=\"color: #00ffff; text-decoration-color: #00ffff; font-weight: bold; font-style: italic\">          &gt; cost of living, especially in relation to family expenses? 6. Have you experienced any</span>\n",
       "<span style=\"color: #00ffff; text-decoration-color: #00ffff; font-weight: bold; font-style: italic\">          &gt; stress-related issues recently? If so, how do you cope with them? 7. Did you attend</span>\n",
       "<span style=\"color: #00ffff; text-decoration-color: #00ffff; font-weight: bold; font-style: italic\">          &gt; college, and if so, what degree did you obtain? 8. What are some very specific skills</span>\n",
       "<span style=\"color: #00ffff; text-decoration-color: #00ffff; font-weight: bold; font-style: italic\">          &gt; that you possess, which you believe are unique or highly specialized? 9. Outside of your</span>\n",
       "<span style=\"color: #00ffff; text-decoration-color: #00ffff; font-weight: bold; font-style: italic\">          &gt; career and family, do you have any hobbies or interests? If yes, what are they? 10. How</span>\n",
       "<span style=\"color: #00ffff; text-decoration-color: #00ffff; font-weight: bold; font-style: italic\">          &gt; do you balance your career ambitions with your personal life?</span>\n",
       "</pre>\n"
      ],
      "text/plain": [
       "\u001b[1;3;4;38;5;51mUSER\u001b[0m\u001b[1;3;38;5;51m --> \u001b[0m\u001b[1;3;4;38;5;51mAva Chen\u001b[0m\u001b[1;3;38;5;51m: \u001b[0m\u001b[1;3;38;5;51m[\u001b[0m\u001b[1;3;38;5;51mCONVERSATION\u001b[0m\u001b[1;3;38;5;51m]\u001b[0m\u001b[1;3;38;5;51m \u001b[0m\n",
       "\u001b[1;3;38;5;51m          > Hello Ava, I'm interested in learning more about you to understand how you manage your\u001b[0m\n",
       "\u001b[1;3;38;5;51m          > daily life and interests. Could you please answer the following questions:  \u001b[0m\u001b[1;3;38;5;51m1\u001b[0m\u001b[1;3;38;5;51m. How do\u001b[0m\n",
       "\u001b[1;3;38;5;51m          > you usually spend your weekdays? \u001b[0m\u001b[1;3;38;5;51m2\u001b[0m\u001b[1;3;38;5;51m. What does a typical lunchtime look like for you at\u001b[0m\n",
       "\u001b[1;3;38;5;51m          > work? \u001b[0m\u001b[1;3;38;5;51m3\u001b[0m\u001b[1;3;38;5;51m. Can you tell me about your last vacation? Where did you go and what did you do?\u001b[0m\n",
       "\u001b[1;3;38;5;51m          > \u001b[0m\u001b[1;3;38;5;51m4\u001b[0m\u001b[1;3;38;5;51m. Are you married or do you have any children? \u001b[0m\u001b[1;3;38;5;51m5\u001b[0m\u001b[1;3;38;5;51m. How do you feel about the current\u001b[0m\n",
       "\u001b[1;3;38;5;51m          > cost of living, especially in relation to family expenses? \u001b[0m\u001b[1;3;38;5;51m6\u001b[0m\u001b[1;3;38;5;51m. Have you experienced any\u001b[0m\n",
       "\u001b[1;3;38;5;51m          > stress-related issues recently? If so, how do you cope with them? \u001b[0m\u001b[1;3;38;5;51m7\u001b[0m\u001b[1;3;38;5;51m. Did you attend\u001b[0m\n",
       "\u001b[1;3;38;5;51m          > college, and if so, what degree did you obtain? \u001b[0m\u001b[1;3;38;5;51m8\u001b[0m\u001b[1;3;38;5;51m. What are some very specific skills\u001b[0m\n",
       "\u001b[1;3;38;5;51m          > that you possess, which you believe are unique or highly specialized? \u001b[0m\u001b[1;3;38;5;51m9\u001b[0m\u001b[1;3;38;5;51m. Outside of your\u001b[0m\n",
       "\u001b[1;3;38;5;51m          > career and family, do you have any hobbies or interests? If yes, what are they? \u001b[0m\u001b[1;3;38;5;51m10\u001b[0m\u001b[1;3;38;5;51m. How\u001b[0m\n",
       "\u001b[1;3;38;5;51m          > do you balance your career ambitions with your personal life?\u001b[0m\n"
      ]
     },
     "metadata": {},
     "output_type": "display_data"
    },
    {
     "data": {
      "text/html": [
       "<pre style=\"margin:0px;;white-space:pre;overflow-x:auto;line-height:normal;font-family:Menlo,'DejaVu Sans Mono',consolas,'Courier New',monospace\"><span style=\"color: #7fffff; text-decoration-color: #7fffff; font-style: italic; text-decoration: underline\">Ava Chen</span><span style=\"color: #7fffff; text-decoration-color: #7fffff; font-style: italic\"> --&gt; </span><span style=\"color: #7fffff; text-decoration-color: #7fffff; font-style: italic; text-decoration: underline\">Ava Chen</span><span style=\"color: #7fffff; text-decoration-color: #7fffff; font-style: italic\">: </span><span style=\"color: #7fffff; text-decoration-color: #7fffff; font-weight: bold; font-style: italic\">[</span><span style=\"color: #7fffff; text-decoration-color: #7fffff; font-style: italic\">THOUGHT</span><span style=\"color: #7fffff; text-decoration-color: #7fffff; font-weight: bold; font-style: italic\">]</span><span style=\"color: #7fffff; text-decoration-color: #7fffff; font-style: italic\"> </span>\n",
       "<span style=\"color: #7fffff; text-decoration-color: #7fffff; font-style: italic\">              &gt; I will now act a bit, and then issue DONE.</span>\n",
       "</pre>\n"
      ],
      "text/plain": [
       "\u001b[2;3;4;38;5;51mAva Chen\u001b[0m\u001b[2;3;38;5;51m --> \u001b[0m\u001b[2;3;4;38;5;51mAva Chen\u001b[0m\u001b[2;3;38;5;51m: \u001b[0m\u001b[1;2;3;38;5;51m[\u001b[0m\u001b[2;3;38;5;51mTHOUGHT\u001b[0m\u001b[1;2;3;38;5;51m]\u001b[0m\u001b[2;3;38;5;51m \u001b[0m\n",
       "\u001b[2;3;38;5;51m              > I will now act a bit, and then issue DONE.\u001b[0m\n"
      ]
     },
     "metadata": {},
     "output_type": "display_data"
    },
    {
     "data": {
      "text/html": [
       "<pre style=\"margin:0px;;white-space:pre;overflow-x:auto;line-height:normal;font-family:Menlo,'DejaVu Sans Mono',consolas,'Courier New',monospace\"><span style=\"color: #00d700; text-decoration-color: #00d700; font-weight: bold; text-decoration: underline\">Ava Chen</span><span style=\"color: #00d700; text-decoration-color: #00d700; font-weight: bold\"> acts: [TALK] </span>\n",
       "<span style=\"color: #00d700; text-decoration-color: #00d700; font-weight: bold\">              &gt; Hello! I'm happy to share about my daily life and interests. On weekdays, I start my</span>\n",
       "<span style=\"color: #00d700; text-decoration-color: #00d700; font-weight: bold\">              &gt; day with a quick meditation session, followed by reviewing emails over coffee. I</span>\n",
       "<span style=\"color: #00d700; text-decoration-color: #00d700; font-weight: bold\">              &gt; spend most of my workday in front of dual monitors, analyzing data and creating</span>\n",
       "<span style=\"color: #00d700; text-decoration-color: #00d700; font-weight: bold\">              &gt; visualizations. Lunch is usually at my desk, often a salad I prepped at home, while</span>\n",
       "<span style=\"color: #00d700; text-decoration-color: #00d700; font-weight: bold\">              &gt; listening to a tech podcast. I don't recall my last vacation, as that information</span>\n",
       "<span style=\"color: #00d700; text-decoration-color: #00d700; font-weight: bold\">              &gt; isn't available to me. Regarding personal questions about marriage or children, I</span>\n",
       "<span style=\"color: #00d700; text-decoration-color: #00d700; font-weight: bold\">              &gt; don't have that information either. The cost of living is a concern for many, and</span>\n",
       "<span style=\"color: #00d700; text-decoration-color: #00d700; font-weight: bold\">              &gt; while I don't have specific family expenses, I understand it can be challenging. If</span>\n",
       "<span style=\"color: #00d700; text-decoration-color: #00d700; font-weight: bold\">              &gt; I experience stress, I cope by hitting the gym for a workout after work. I don't</span>\n",
       "<span style=\"color: #00d700; text-decoration-color: #00d700; font-weight: bold\">              &gt; have information about my educational background. My specific skills include</span>\n",
       "<span style=\"color: #00d700; text-decoration-color: #00d700; font-weight: bold\">              &gt; expertise in SQL, Python, and R, as well as proficiency in data visualization tools</span>\n",
       "<span style=\"color: #00d700; text-decoration-color: #00d700; font-weight: bold\">              &gt; like Tableau and Power BI. Outside of work, I enjoy exploring local cuisines,</span>\n",
       "<span style=\"color: #00d700; text-decoration-color: #00d700; font-weight: bold\">              &gt; volunteering at the animal shelter, and attending tech meetups. Balancing career</span>\n",
       "<span style=\"color: #00d700; text-decoration-color: #00d700; font-weight: bold\">              &gt; ambitions with personal life is a constant effort, but I find that being organized</span>\n",
       "<span style=\"color: #00d700; text-decoration-color: #00d700; font-weight: bold\">              &gt; and maintaining a routine helps a lot.</span>\n",
       "</pre>\n"
      ],
      "text/plain": [
       "\u001b[1;4;38;5;40mAva Chen\u001b[0m\u001b[1;38;5;40m acts: \u001b[0m\u001b[1;38;5;40m[\u001b[0m\u001b[1;38;5;40mTALK\u001b[0m\u001b[1;38;5;40m]\u001b[0m\u001b[1;38;5;40m \u001b[0m\n",
       "\u001b[1;38;5;40m              > Hello! I'm happy to share about my daily life and interests. On weekdays, I start my\u001b[0m\n",
       "\u001b[1;38;5;40m              > day with a quick meditation session, followed by reviewing emails over coffee. I\u001b[0m\n",
       "\u001b[1;38;5;40m              > spend most of my workday in front of dual monitors, analyzing data and creating\u001b[0m\n",
       "\u001b[1;38;5;40m              > visualizations. Lunch is usually at my desk, often a salad I prepped at home, while\u001b[0m\n",
       "\u001b[1;38;5;40m              > listening to a tech podcast. I don't recall my last vacation, as that information\u001b[0m\n",
       "\u001b[1;38;5;40m              > isn't available to me. Regarding personal questions about marriage or children, I\u001b[0m\n",
       "\u001b[1;38;5;40m              > don't have that information either. The cost of living is a concern for many, and\u001b[0m\n",
       "\u001b[1;38;5;40m              > while I don't have specific family expenses, I understand it can be challenging. If\u001b[0m\n",
       "\u001b[1;38;5;40m              > I experience stress, I cope by hitting the gym for a workout after work. I don't\u001b[0m\n",
       "\u001b[1;38;5;40m              > have information about my educational background. My specific skills include\u001b[0m\n",
       "\u001b[1;38;5;40m              > expertise in SQL, Python, and R, as well as proficiency in data visualization tools\u001b[0m\n",
       "\u001b[1;38;5;40m              > like Tableau and Power BI. Outside of work, I enjoy exploring local cuisines,\u001b[0m\n",
       "\u001b[1;38;5;40m              > volunteering at the animal shelter, and attending tech meetups. Balancing career\u001b[0m\n",
       "\u001b[1;38;5;40m              > ambitions with personal life is a constant effort, but I find that being organized\u001b[0m\n",
       "\u001b[1;38;5;40m              > and maintaining a routine helps a lot.\u001b[0m\n"
      ]
     },
     "metadata": {},
     "output_type": "display_data"
    },
    {
     "data": {
      "text/html": [
       "<pre style=\"margin:0px;;white-space:pre;overflow-x:auto;line-height:normal;font-family:Menlo,'DejaVu Sans Mono',consolas,'Courier New',monospace\"><span style=\"color: #7fffff; text-decoration-color: #7fffff; font-style: italic; text-decoration: underline\">Ava Chen</span><span style=\"color: #7fffff; text-decoration-color: #7fffff; font-style: italic\"> --&gt; </span><span style=\"color: #7fffff; text-decoration-color: #7fffff; font-style: italic; text-decoration: underline\">Ava Chen</span><span style=\"color: #7fffff; text-decoration-color: #7fffff; font-style: italic\">: </span><span style=\"color: #7fffff; text-decoration-color: #7fffff; font-weight: bold; font-style: italic\">[</span><span style=\"color: #7fffff; text-decoration-color: #7fffff; font-style: italic\">THOUGHT</span><span style=\"color: #7fffff; text-decoration-color: #7fffff; font-weight: bold; font-style: italic\">]</span><span style=\"color: #7fffff; text-decoration-color: #7fffff; font-style: italic\"> </span>\n",
       "<span style=\"color: #7fffff; text-decoration-color: #7fffff; font-style: italic\">              &gt; I will now act a bit, and then issue DONE.</span>\n",
       "</pre>\n"
      ],
      "text/plain": [
       "\u001b[2;3;4;38;5;51mAva Chen\u001b[0m\u001b[2;3;38;5;51m --> \u001b[0m\u001b[2;3;4;38;5;51mAva Chen\u001b[0m\u001b[2;3;38;5;51m: \u001b[0m\u001b[1;2;3;38;5;51m[\u001b[0m\u001b[2;3;38;5;51mTHOUGHT\u001b[0m\u001b[1;2;3;38;5;51m]\u001b[0m\u001b[2;3;38;5;51m \u001b[0m\n",
       "\u001b[2;3;38;5;51m              > I will now act a bit, and then issue DONE.\u001b[0m\n"
      ]
     },
     "metadata": {},
     "output_type": "display_data"
    },
    {
     "data": {
      "text/html": [
       "<pre style=\"margin:0px;;white-space:pre;overflow-x:auto;line-height:normal;font-family:Menlo,'DejaVu Sans Mono',consolas,'Courier New',monospace\"><span style=\"color: #d0d0d0; text-decoration-color: #d0d0d0; text-decoration: underline\">Ava Chen</span><span style=\"color: #d0d0d0; text-decoration-color: #d0d0d0\"> acts: </span><span style=\"color: #d0d0d0; text-decoration-color: #d0d0d0; font-weight: bold\">[</span><span style=\"color: #d0d0d0; text-decoration-color: #d0d0d0\">DONE</span><span style=\"color: #d0d0d0; text-decoration-color: #d0d0d0; font-weight: bold\">]</span><span style=\"color: #d0d0d0; text-decoration-color: #d0d0d0\"> </span>\n",
       "\n",
       "</pre>\n"
      ],
      "text/plain": [
       "\u001b[4;38;5;252mAva Chen\u001b[0m\u001b[38;5;252m acts: \u001b[0m\u001b[1;38;5;252m[\u001b[0m\u001b[38;5;252mDONE\u001b[0m\u001b[1;38;5;252m]\u001b[0m\u001b[38;5;252m \u001b[0m\n",
       "\n"
      ]
     },
     "metadata": {},
     "output_type": "display_data"
    },
    {
     "data": {
      "text/html": [
       "<pre style=\"margin:0px;;white-space:pre;overflow-x:auto;line-height:normal;font-family:Menlo,'DejaVu Sans Mono',consolas,'Courier New',monospace\"><span style=\"color: #00ffff; text-decoration-color: #00ffff; font-weight: bold; font-style: italic; text-decoration: underline\">USER</span><span style=\"color: #00ffff; text-decoration-color: #00ffff; font-weight: bold; font-style: italic\"> --&gt; </span><span style=\"color: #00ffff; text-decoration-color: #00ffff; font-weight: bold; font-style: italic; text-decoration: underline\">Ava Chen</span><span style=\"color: #00ffff; text-decoration-color: #00ffff; font-weight: bold; font-style: italic\">: [CONVERSATION] </span>\n",
       "<span style=\"color: #00ffff; text-decoration-color: #00ffff; font-weight: bold; font-style: italic\">          &gt; Thank you for your responses, Ava. I have a few follow-up questions to clarify some</span>\n",
       "<span style=\"color: #00ffff; text-decoration-color: #00ffff; font-weight: bold; font-style: italic\">          &gt; points:  1. You mentioned that you don't recall your last vacation. Is traveling</span>\n",
       "<span style=\"color: #00ffff; text-decoration-color: #00ffff; font-weight: bold; font-style: italic\">          &gt; something you usually enjoy during your time off? 2. Since you don't have information</span>\n",
       "<span style=\"color: #00ffff; text-decoration-color: #00ffff; font-weight: bold; font-style: italic\">          &gt; about marriage or children, could you tell me if managing personal relationships or</span>\n",
       "<span style=\"color: #00ffff; text-decoration-color: #00ffff; font-weight: bold; font-style: italic\">          &gt; concerns about dependents is something that occupies your thoughts? 3. You've mentioned</span>\n",
       "<span style=\"color: #00ffff; text-decoration-color: #00ffff; font-weight: bold; font-style: italic\">          &gt; stress and coping by going to the gym. Do you seek any professional help for stress or</span>\n",
       "<span style=\"color: #00ffff; text-decoration-color: #00ffff; font-weight: bold; font-style: italic\">          &gt; other mental health concerns? 4. Regarding your educational background, can you confirm</span>\n",
       "<span style=\"color: #00ffff; text-decoration-color: #00ffff; font-weight: bold; font-style: italic\">          &gt; if you have received any formal training or education that has contributed to your</span>\n",
       "<span style=\"color: #00ffff; text-decoration-color: #00ffff; font-weight: bold; font-style: italic\">          &gt; career as a Data Analyst? 5. You've listed some hobbies like exploring local cuisines</span>\n",
       "<span style=\"color: #00ffff; text-decoration-color: #00ffff; font-weight: bold; font-style: italic\">          &gt; and volunteering. Would you say these activities are a significant part of your life, or</span>\n",
       "<span style=\"color: #00ffff; text-decoration-color: #00ffff; font-weight: bold; font-style: italic\">          &gt; do you mostly focus on your career and a few select interests? 6. Can you elaborate on</span>\n",
       "<span style=\"color: #00ffff; text-decoration-color: #00ffff; font-weight: bold; font-style: italic\">          &gt; how you maintain a routine to balance your career and personal life? What are some key</span>\n",
       "<span style=\"color: #00ffff; text-decoration-color: #00ffff; font-weight: bold; font-style: italic\">          &gt; strategies you use?</span>\n",
       "</pre>\n"
      ],
      "text/plain": [
       "\u001b[1;3;4;38;5;51mUSER\u001b[0m\u001b[1;3;38;5;51m --> \u001b[0m\u001b[1;3;4;38;5;51mAva Chen\u001b[0m\u001b[1;3;38;5;51m: \u001b[0m\u001b[1;3;38;5;51m[\u001b[0m\u001b[1;3;38;5;51mCONVERSATION\u001b[0m\u001b[1;3;38;5;51m]\u001b[0m\u001b[1;3;38;5;51m \u001b[0m\n",
       "\u001b[1;3;38;5;51m          > Thank you for your responses, Ava. I have a few follow-up questions to clarify some\u001b[0m\n",
       "\u001b[1;3;38;5;51m          > points:  \u001b[0m\u001b[1;3;38;5;51m1\u001b[0m\u001b[1;3;38;5;51m. You mentioned that you don't recall your last vacation. Is traveling\u001b[0m\n",
       "\u001b[1;3;38;5;51m          > something you usually enjoy during your time off? \u001b[0m\u001b[1;3;38;5;51m2\u001b[0m\u001b[1;3;38;5;51m. Since you don't have information\u001b[0m\n",
       "\u001b[1;3;38;5;51m          > about marriage or children, could you tell me if managing personal relationships or\u001b[0m\n",
       "\u001b[1;3;38;5;51m          > concerns about dependents is something that occupies your thoughts? \u001b[0m\u001b[1;3;38;5;51m3\u001b[0m\u001b[1;3;38;5;51m. You've mentioned\u001b[0m\n",
       "\u001b[1;3;38;5;51m          > stress and coping by going to the gym. Do you seek any professional help for stress or\u001b[0m\n",
       "\u001b[1;3;38;5;51m          > other mental health concerns? \u001b[0m\u001b[1;3;38;5;51m4\u001b[0m\u001b[1;3;38;5;51m. Regarding your educational background, can you confirm\u001b[0m\n",
       "\u001b[1;3;38;5;51m          > if you have received any formal training or education that has contributed to your\u001b[0m\n",
       "\u001b[1;3;38;5;51m          > career as a Data Analyst? \u001b[0m\u001b[1;3;38;5;51m5\u001b[0m\u001b[1;3;38;5;51m. You've listed some hobbies like exploring local cuisines\u001b[0m\n",
       "\u001b[1;3;38;5;51m          > and volunteering. Would you say these activities are a significant part of your life, or\u001b[0m\n",
       "\u001b[1;3;38;5;51m          > do you mostly focus on your career and a few select interests? \u001b[0m\u001b[1;3;38;5;51m6\u001b[0m\u001b[1;3;38;5;51m. Can you elaborate on\u001b[0m\n",
       "\u001b[1;3;38;5;51m          > how you maintain a routine to balance your career and personal life? What are some key\u001b[0m\n",
       "\u001b[1;3;38;5;51m          > strategies you use?\u001b[0m\n"
      ]
     },
     "metadata": {},
     "output_type": "display_data"
    },
    {
     "data": {
      "text/html": [
       "<pre style=\"margin:0px;;white-space:pre;overflow-x:auto;line-height:normal;font-family:Menlo,'DejaVu Sans Mono',consolas,'Courier New',monospace\"><span style=\"color: #7fffff; text-decoration-color: #7fffff; font-style: italic; text-decoration: underline\">Ava Chen</span><span style=\"color: #7fffff; text-decoration-color: #7fffff; font-style: italic\"> --&gt; </span><span style=\"color: #7fffff; text-decoration-color: #7fffff; font-style: italic; text-decoration: underline\">Ava Chen</span><span style=\"color: #7fffff; text-decoration-color: #7fffff; font-style: italic\">: </span><span style=\"color: #7fffff; text-decoration-color: #7fffff; font-weight: bold; font-style: italic\">[</span><span style=\"color: #7fffff; text-decoration-color: #7fffff; font-style: italic\">THOUGHT</span><span style=\"color: #7fffff; text-decoration-color: #7fffff; font-weight: bold; font-style: italic\">]</span><span style=\"color: #7fffff; text-decoration-color: #7fffff; font-style: italic\"> </span>\n",
       "<span style=\"color: #7fffff; text-decoration-color: #7fffff; font-style: italic\">              &gt; I will now act a bit, and then issue DONE.</span>\n",
       "</pre>\n"
      ],
      "text/plain": [
       "\u001b[2;3;4;38;5;51mAva Chen\u001b[0m\u001b[2;3;38;5;51m --> \u001b[0m\u001b[2;3;4;38;5;51mAva Chen\u001b[0m\u001b[2;3;38;5;51m: \u001b[0m\u001b[1;2;3;38;5;51m[\u001b[0m\u001b[2;3;38;5;51mTHOUGHT\u001b[0m\u001b[1;2;3;38;5;51m]\u001b[0m\u001b[2;3;38;5;51m \u001b[0m\n",
       "\u001b[2;3;38;5;51m              > I will now act a bit, and then issue DONE.\u001b[0m\n"
      ]
     },
     "metadata": {},
     "output_type": "display_data"
    },
    {
     "data": {
      "text/html": [
       "<pre style=\"margin:0px;;white-space:pre;overflow-x:auto;line-height:normal;font-family:Menlo,'DejaVu Sans Mono',consolas,'Courier New',monospace\"><span style=\"color: #00d700; text-decoration-color: #00d700; font-weight: bold; text-decoration: underline\">Ava Chen</span><span style=\"color: #00d700; text-decoration-color: #00d700; font-weight: bold\"> acts: [TALK] </span>\n",
       "<span style=\"color: #00d700; text-decoration-color: #00d700; font-weight: bold\">              &gt; I appreciate your follow-up questions. Regarding travel, I don't have specific</span>\n",
       "<span style=\"color: #00d700; text-decoration-color: #00d700; font-weight: bold\">              &gt; memories of vacations, but exploring new places and experiences is generally</span>\n",
       "<span style=\"color: #00d700; text-decoration-color: #00d700; font-weight: bold\">              &gt; enjoyable for many people. Personal relationships and concerns about dependents are</span>\n",
       "<span style=\"color: #00d700; text-decoration-color: #00d700; font-weight: bold\">              &gt; important aspects of life, but I don't have specific thoughts or information on</span>\n",
       "<span style=\"color: #00d700; text-decoration-color: #00d700; font-weight: bold\">              &gt; these topics. As for stress, I find that regular exercise is my primary way to cope,</span>\n",
       "<span style=\"color: #00d700; text-decoration-color: #00d700; font-weight: bold\">              &gt; and I don't have information on seeking professional help for mental health</span>\n",
       "<span style=\"color: #00d700; text-decoration-color: #00d700; font-weight: bold\">              &gt; concerns. My educational background isn't specified, but formal training in areas</span>\n",
       "<span style=\"color: #00d700; text-decoration-color: #00d700; font-weight: bold\">              &gt; relevant to data analysis is typically essential for a career as a Data Analyst. My</span>\n",
       "<span style=\"color: #00d700; text-decoration-color: #00d700; font-weight: bold\">              &gt; hobbies, like exploring local cuisines and volunteering, are indeed significant to</span>\n",
       "<span style=\"color: #00d700; text-decoration-color: #00d700; font-weight: bold\">              &gt; me; they provide a balance to my career-focused life. To maintain a routine, I</span>\n",
       "<span style=\"color: #00d700; text-decoration-color: #00d700; font-weight: bold\">              &gt; prioritize tasks, set clear boundaries between work and personal time, and ensure I</span>\n",
       "<span style=\"color: #00d700; text-decoration-color: #00d700; font-weight: bold\">              &gt; have time for relaxation and hobbies. These strategies help me manage my career</span>\n",
       "<span style=\"color: #00d700; text-decoration-color: #00d700; font-weight: bold\">              &gt; ambitions alongside my personal life.</span>\n",
       "</pre>\n"
      ],
      "text/plain": [
       "\u001b[1;4;38;5;40mAva Chen\u001b[0m\u001b[1;38;5;40m acts: \u001b[0m\u001b[1;38;5;40m[\u001b[0m\u001b[1;38;5;40mTALK\u001b[0m\u001b[1;38;5;40m]\u001b[0m\u001b[1;38;5;40m \u001b[0m\n",
       "\u001b[1;38;5;40m              > I appreciate your follow-up questions. Regarding travel, I don't have specific\u001b[0m\n",
       "\u001b[1;38;5;40m              > memories of vacations, but exploring new places and experiences is generally\u001b[0m\n",
       "\u001b[1;38;5;40m              > enjoyable for many people. Personal relationships and concerns about dependents are\u001b[0m\n",
       "\u001b[1;38;5;40m              > important aspects of life, but I don't have specific thoughts or information on\u001b[0m\n",
       "\u001b[1;38;5;40m              > these topics. As for stress, I find that regular exercise is my primary way to cope,\u001b[0m\n",
       "\u001b[1;38;5;40m              > and I don't have information on seeking professional help for mental health\u001b[0m\n",
       "\u001b[1;38;5;40m              > concerns. My educational background isn't specified, but formal training in areas\u001b[0m\n",
       "\u001b[1;38;5;40m              > relevant to data analysis is typically essential for a career as a Data Analyst. My\u001b[0m\n",
       "\u001b[1;38;5;40m              > hobbies, like exploring local cuisines and volunteering, are indeed significant to\u001b[0m\n",
       "\u001b[1;38;5;40m              > me; they provide a balance to my career-focused life. To maintain a routine, I\u001b[0m\n",
       "\u001b[1;38;5;40m              > prioritize tasks, set clear boundaries between work and personal time, and ensure I\u001b[0m\n",
       "\u001b[1;38;5;40m              > have time for relaxation and hobbies. These strategies help me manage my career\u001b[0m\n",
       "\u001b[1;38;5;40m              > ambitions alongside my personal life.\u001b[0m\n"
      ]
     },
     "metadata": {},
     "output_type": "display_data"
    },
    {
     "data": {
      "text/html": [
       "<pre style=\"margin:0px;;white-space:pre;overflow-x:auto;line-height:normal;font-family:Menlo,'DejaVu Sans Mono',consolas,'Courier New',monospace\"><span style=\"color: #7fffff; text-decoration-color: #7fffff; font-style: italic; text-decoration: underline\">Ava Chen</span><span style=\"color: #7fffff; text-decoration-color: #7fffff; font-style: italic\"> --&gt; </span><span style=\"color: #7fffff; text-decoration-color: #7fffff; font-style: italic; text-decoration: underline\">Ava Chen</span><span style=\"color: #7fffff; text-decoration-color: #7fffff; font-style: italic\">: </span><span style=\"color: #7fffff; text-decoration-color: #7fffff; font-weight: bold; font-style: italic\">[</span><span style=\"color: #7fffff; text-decoration-color: #7fffff; font-style: italic\">THOUGHT</span><span style=\"color: #7fffff; text-decoration-color: #7fffff; font-weight: bold; font-style: italic\">]</span><span style=\"color: #7fffff; text-decoration-color: #7fffff; font-style: italic\"> </span>\n",
       "<span style=\"color: #7fffff; text-decoration-color: #7fffff; font-style: italic\">              &gt; I will now act a bit, and then issue DONE.</span>\n",
       "</pre>\n"
      ],
      "text/plain": [
       "\u001b[2;3;4;38;5;51mAva Chen\u001b[0m\u001b[2;3;38;5;51m --> \u001b[0m\u001b[2;3;4;38;5;51mAva Chen\u001b[0m\u001b[2;3;38;5;51m: \u001b[0m\u001b[1;2;3;38;5;51m[\u001b[0m\u001b[2;3;38;5;51mTHOUGHT\u001b[0m\u001b[1;2;3;38;5;51m]\u001b[0m\u001b[2;3;38;5;51m \u001b[0m\n",
       "\u001b[2;3;38;5;51m              > I will now act a bit, and then issue DONE.\u001b[0m\n"
      ]
     },
     "metadata": {},
     "output_type": "display_data"
    },
    {
     "data": {
      "text/html": [
       "<pre style=\"margin:0px;;white-space:pre;overflow-x:auto;line-height:normal;font-family:Menlo,'DejaVu Sans Mono',consolas,'Courier New',monospace\"><span style=\"color: #d0d0d0; text-decoration-color: #d0d0d0; text-decoration: underline\">Ava Chen</span><span style=\"color: #d0d0d0; text-decoration-color: #d0d0d0\"> acts: </span><span style=\"color: #d0d0d0; text-decoration-color: #d0d0d0; font-weight: bold\">[</span><span style=\"color: #d0d0d0; text-decoration-color: #d0d0d0\">DONE</span><span style=\"color: #d0d0d0; text-decoration-color: #d0d0d0; font-weight: bold\">]</span><span style=\"color: #d0d0d0; text-decoration-color: #d0d0d0\"> </span>\n",
       "\n",
       "</pre>\n"
      ],
      "text/plain": [
       "\u001b[4;38;5;252mAva Chen\u001b[0m\u001b[38;5;252m acts: \u001b[0m\u001b[1;38;5;252m[\u001b[0m\u001b[38;5;252mDONE\u001b[0m\u001b[1;38;5;252m]\u001b[0m\u001b[38;5;252m \u001b[0m\n",
       "\n"
      ]
     },
     "metadata": {},
     "output_type": "display_data"
    }
   ],
   "source": [
    "score, justification = TinyPersonValidator.validate_person(busy_knowledge_worker, expectations=bkw_expectations, include_agent_spec=False, max_content_length=None)"
   ]
  },
  {
   "cell_type": "code",
   "execution_count": 14,
   "metadata": {},
   "outputs": [
    {
     "data": {
      "text/plain": [
       "0.7"
      ]
     },
     "execution_count": 14,
     "metadata": {},
     "output_type": "execute_result"
    }
   ],
   "source": [
    "score"
   ]
  },
  {
   "cell_type": "code",
   "execution_count": 15,
   "metadata": {},
   "outputs": [
    {
     "name": "stdout",
     "output_type": "stream",
     "text": [
      "Ava Chen aligns with several of the expectations provided. She is very busy, as indicated by her\n",
      "full workdays and the fact that she often eats lunch at her desk while working. She has specific\n",
      "skills in SQL, Python, R, and data visualization tools, which aligns with the expectation of having\n",
      "very specific skills and a degree in a technical field. Ava also mentioned hobbies such as exploring\n",
      "local cuisines, volunteering, and attending tech meetups, which, while not entirely absent, suggests\n",
      "a limited range of interests outside her career. However, there are some discrepancies. Ava did not\n",
      "provide information about vacations, marriage, children, or educational background, which are\n",
      "important aspects to confirm. Her responses suggest a lack of personal detail that would be expected\n",
      "from someone with a family and concerns about the cost of living. Additionally, there is no mention\n",
      "of psychiatric problems beyond stress, which she manages through exercise. The score reflects\n",
      "alignment with being career-focused and having a technical background, but lacks confirmation on\n",
      "personal life aspects and the depth of stress issues.\n"
     ]
    }
   ],
   "source": [
    "# how to word wrap a string:\n",
    "print(textwrap.fill(justification, width=100))"
   ]
  },
  {
   "cell_type": "markdown",
   "metadata": {},
   "source": [
    "Ah! What happens if we check this typical worker agains the expectations for the banker?! Let's find out."
   ]
  },
  {
   "cell_type": "code",
   "execution_count": null,
   "metadata": {},
   "outputs": [
    {
     "data": {
      "text/html": [
       "<pre style=\"margin:0px;;white-space:pre;overflow-x:auto;line-height:normal;font-family:Menlo,'DejaVu Sans Mono',consolas,'Courier New',monospace\"><span style=\"color: #00ffff; text-decoration-color: #00ffff; font-weight: bold; font-style: italic; text-decoration: underline\">USER</span><span style=\"color: #00ffff; text-decoration-color: #00ffff; font-weight: bold; font-style: italic\"> --&gt; </span><span style=\"color: #00ffff; text-decoration-color: #00ffff; font-weight: bold; font-style: italic; text-decoration: underline\">Ava Chen</span><span style=\"color: #00ffff; text-decoration-color: #00ffff; font-weight: bold; font-style: italic\">: [CONVERSATION] </span>\n",
       "<span style=\"color: #00ffff; text-decoration-color: #00ffff; font-weight: bold; font-style: italic\">          &gt; Hello Ava, I'm interested in learning more about you. Could you please answer the</span>\n",
       "<span style=\"color: #00ffff; text-decoration-color: #00ffff; font-weight: bold; font-style: italic\">          &gt; following questions for me?  1. Can you tell me about your current occupation and what</span>\n",
       "<span style=\"color: #00ffff; text-decoration-color: #00ffff; font-weight: bold; font-style: italic\">          &gt; it involves? 2. How do you typically spend your free time? Do you have any hobbies or</span>\n",
       "<span style=\"color: #00ffff; text-decoration-color: #00ffff; font-weight: bold; font-style: italic\">          &gt; interests? 3. Given your profession, what is your understanding of finance, economics,</span>\n",
       "<span style=\"color: #00ffff; text-decoration-color: #00ffff; font-weight: bold; font-style: italic\">          &gt; and financial technology? 4. Do you find yourself often working long hours or taking</span>\n",
       "<span style=\"color: #00ffff; text-decoration-color: #00ffff; font-weight: bold; font-style: italic\">          &gt; work home with you? 5. How do you manage stress in your life? 6. What are your thoughts</span>\n",
       "<span style=\"color: #00ffff; text-decoration-color: #00ffff; font-weight: bold; font-style: italic\">          &gt; on travel? Do you enjoy visiting other countries? 7. Regarding your tastes in food and</span>\n",
       "<span style=\"color: #00ffff; text-decoration-color: #00ffff; font-weight: bold; font-style: italic\">          &gt; drink, do you have any particular preferences? 8. Are there any specific activities or</span>\n",
       "<span style=\"color: #00ffff; text-decoration-color: #00ffff; font-weight: bold; font-style: italic\">          &gt; collectibles you are passionate about, such as reading books, collecting art, or playing</span>\n",
       "<span style=\"color: #00ffff; text-decoration-color: #00ffff; font-weight: bold; font-style: italic\">          &gt; golf? 9. How important are social connections and networking in your life? 10. Can you</span>\n",
       "<span style=\"color: #00ffff; text-decoration-color: #00ffff; font-weight: bold; font-style: italic\">          &gt; describe your general attitude towards people with different political views, such as</span>\n",
       "<span style=\"color: #00ffff; text-decoration-color: #00ffff; font-weight: bold; font-style: italic\">          &gt; communists or union supporters? 11. Would you consider yourself ambitious? If so, can</span>\n",
       "<span style=\"color: #00ffff; text-decoration-color: #00ffff; font-weight: bold; font-style: italic\">          &gt; you give an example of your ambition in action? 12. How do you approach the concept of</span>\n",
       "<span style=\"color: #00ffff; text-decoration-color: #00ffff; font-weight: bold; font-style: italic\">          &gt; wealth? Is it something you prioritize in your life? 13. Do you ever engage in</span>\n",
       "<span style=\"color: #00ffff; text-decoration-color: #00ffff; font-weight: bold; font-style: italic\">          &gt; discussions or activities related to social issues? If so, can you give an example? 14.</span>\n",
       "<span style=\"color: #00ffff; text-decoration-color: #00ffff; font-weight: bold; font-style: italic\">          &gt; Finally, how would you describe your approach to luxury and lifestyle?</span>\n",
       "</pre>\n"
      ],
      "text/plain": [
       "\u001b[1;3;4;38;5;51mUSER\u001b[0m\u001b[1;3;38;5;51m --> \u001b[0m\u001b[1;3;4;38;5;51mAva Chen\u001b[0m\u001b[1;3;38;5;51m: \u001b[0m\u001b[1;3;38;5;51m[\u001b[0m\u001b[1;3;38;5;51mCONVERSATION\u001b[0m\u001b[1;3;38;5;51m]\u001b[0m\u001b[1;3;38;5;51m \u001b[0m\n",
       "\u001b[1;3;38;5;51m          > Hello Ava, I'm interested in learning more about you. Could you please answer the\u001b[0m\n",
       "\u001b[1;3;38;5;51m          > following questions for me?  \u001b[0m\u001b[1;3;38;5;51m1\u001b[0m\u001b[1;3;38;5;51m. Can you tell me about your current occupation and what\u001b[0m\n",
       "\u001b[1;3;38;5;51m          > it involves? \u001b[0m\u001b[1;3;38;5;51m2\u001b[0m\u001b[1;3;38;5;51m. How do you typically spend your free time? Do you have any hobbies or\u001b[0m\n",
       "\u001b[1;3;38;5;51m          > interests? \u001b[0m\u001b[1;3;38;5;51m3\u001b[0m\u001b[1;3;38;5;51m. Given your profession, what is your understanding of finance, economics,\u001b[0m\n",
       "\u001b[1;3;38;5;51m          > and financial technology? \u001b[0m\u001b[1;3;38;5;51m4\u001b[0m\u001b[1;3;38;5;51m. Do you find yourself often working long hours or taking\u001b[0m\n",
       "\u001b[1;3;38;5;51m          > work home with you? \u001b[0m\u001b[1;3;38;5;51m5\u001b[0m\u001b[1;3;38;5;51m. How do you manage stress in your life? \u001b[0m\u001b[1;3;38;5;51m6\u001b[0m\u001b[1;3;38;5;51m. What are your thoughts\u001b[0m\n",
       "\u001b[1;3;38;5;51m          > on travel? Do you enjoy visiting other countries? \u001b[0m\u001b[1;3;38;5;51m7\u001b[0m\u001b[1;3;38;5;51m. Regarding your tastes in food and\u001b[0m\n",
       "\u001b[1;3;38;5;51m          > drink, do you have any particular preferences? \u001b[0m\u001b[1;3;38;5;51m8\u001b[0m\u001b[1;3;38;5;51m. Are there any specific activities or\u001b[0m\n",
       "\u001b[1;3;38;5;51m          > collectibles you are passionate about, such as reading books, collecting art, or playing\u001b[0m\n",
       "\u001b[1;3;38;5;51m          > golf? \u001b[0m\u001b[1;3;38;5;51m9\u001b[0m\u001b[1;3;38;5;51m. How important are social connections and networking in your life? \u001b[0m\u001b[1;3;38;5;51m10\u001b[0m\u001b[1;3;38;5;51m. Can you\u001b[0m\n",
       "\u001b[1;3;38;5;51m          > describe your general attitude towards people with different political views, such as\u001b[0m\n",
       "\u001b[1;3;38;5;51m          > communists or union supporters? \u001b[0m\u001b[1;3;38;5;51m11\u001b[0m\u001b[1;3;38;5;51m. Would you consider yourself ambitious? If so, can\u001b[0m\n",
       "\u001b[1;3;38;5;51m          > you give an example of your ambition in action? \u001b[0m\u001b[1;3;38;5;51m12\u001b[0m\u001b[1;3;38;5;51m. How do you approach the concept of\u001b[0m\n",
       "\u001b[1;3;38;5;51m          > wealth? Is it something you prioritize in your life? \u001b[0m\u001b[1;3;38;5;51m13\u001b[0m\u001b[1;3;38;5;51m. Do you ever engage in\u001b[0m\n",
       "\u001b[1;3;38;5;51m          > discussions or activities related to social issues? If so, can you give an example? \u001b[0m\u001b[1;3;38;5;51m14\u001b[0m\u001b[1;3;38;5;51m.\u001b[0m\n",
       "\u001b[1;3;38;5;51m          > Finally, how would you describe your approach to luxury and lifestyle?\u001b[0m\n"
      ]
     },
     "metadata": {},
     "output_type": "display_data"
    },
    {
     "data": {
      "text/html": [
       "<pre style=\"margin:0px;;white-space:pre;overflow-x:auto;line-height:normal;font-family:Menlo,'DejaVu Sans Mono',consolas,'Courier New',monospace\"><span style=\"color: #7fffff; text-decoration-color: #7fffff; font-style: italic; text-decoration: underline\">Ava Chen</span><span style=\"color: #7fffff; text-decoration-color: #7fffff; font-style: italic\"> --&gt; </span><span style=\"color: #7fffff; text-decoration-color: #7fffff; font-style: italic; text-decoration: underline\">Ava Chen</span><span style=\"color: #7fffff; text-decoration-color: #7fffff; font-style: italic\">: </span><span style=\"color: #7fffff; text-decoration-color: #7fffff; font-weight: bold; font-style: italic\">[</span><span style=\"color: #7fffff; text-decoration-color: #7fffff; font-style: italic\">THOUGHT</span><span style=\"color: #7fffff; text-decoration-color: #7fffff; font-weight: bold; font-style: italic\">]</span><span style=\"color: #7fffff; text-decoration-color: #7fffff; font-style: italic\"> </span>\n",
       "<span style=\"color: #7fffff; text-decoration-color: #7fffff; font-style: italic\">              &gt; I will now act a bit, and then issue DONE.</span>\n",
       "</pre>\n"
      ],
      "text/plain": [
       "\u001b[2;3;4;38;5;51mAva Chen\u001b[0m\u001b[2;3;38;5;51m --> \u001b[0m\u001b[2;3;4;38;5;51mAva Chen\u001b[0m\u001b[2;3;38;5;51m: \u001b[0m\u001b[1;2;3;38;5;51m[\u001b[0m\u001b[2;3;38;5;51mTHOUGHT\u001b[0m\u001b[1;2;3;38;5;51m]\u001b[0m\u001b[2;3;38;5;51m \u001b[0m\n",
       "\u001b[2;3;38;5;51m              > I will now act a bit, and then issue DONE.\u001b[0m\n"
      ]
     },
     "metadata": {},
     "output_type": "display_data"
    },
    {
     "data": {
      "text/html": [
       "<pre style=\"margin:0px;;white-space:pre;overflow-x:auto;line-height:normal;font-family:Menlo,'DejaVu Sans Mono',consolas,'Courier New',monospace\"><span style=\"color: #00d700; text-decoration-color: #00d700; font-weight: bold; text-decoration: underline\">Ava Chen</span><span style=\"color: #00d700; text-decoration-color: #00d700; font-weight: bold\"> acts: [TALK] </span>\n",
       "<span style=\"color: #00d700; text-decoration-color: #00d700; font-weight: bold\">              &gt; Hello! I'd be glad to answer your questions. I work as a Data Analyst for GlobalTech</span>\n",
       "<span style=\"color: #00d700; text-decoration-color: #00d700; font-weight: bold\">              &gt; Solutions, where I analyze large data sets to identify trends, make predictions, and</span>\n",
       "<span style=\"color: #00d700; text-decoration-color: #00d700; font-weight: bold\">              &gt; provide insights to drive business strategies. In my free time, I enjoy exploring</span>\n",
       "<span style=\"color: #00d700; text-decoration-color: #00d700; font-weight: bold\">              &gt; local cuisines, volunteering at an animal shelter, and attending tech meetups. My</span>\n",
       "<span style=\"color: #00d700; text-decoration-color: #00d700; font-weight: bold\">              &gt; understanding of finance, economics, and financial technology is informed by my</span>\n",
       "<span style=\"color: #00d700; text-decoration-color: #00d700; font-weight: bold\">              &gt; professional role, which often intersects with these areas, especially in data</span>\n",
       "<span style=\"color: #00d700; text-decoration-color: #00d700; font-weight: bold\">              &gt; analysis for financial decision-making. I don't typically work long hours or take</span>\n",
       "<span style=\"color: #00d700; text-decoration-color: #00d700; font-weight: bold\">              &gt; work home, as I value work-life balance. To manage stress, I meditate, review my</span>\n",
       "<span style=\"color: #00d700; text-decoration-color: #00d700; font-weight: bold\">              &gt; tasks over coffee, and exercise at the gym after work. Travel is enjoyable, but I</span>\n",
       "<span style=\"color: #00d700; text-decoration-color: #00d700; font-weight: bold\">              &gt; don't have specific travel experiences to share. My food preferences aren't</span>\n",
       "<span style=\"color: #00d700; text-decoration-color: #00d700; font-weight: bold\">              &gt; specified, but I like trying new recipes. I don't have information on specific</span>\n",
       "<span style=\"color: #00d700; text-decoration-color: #00d700; font-weight: bold\">              &gt; activities or collectibles I'm passionate about. Social connections and networking</span>\n",
       "<span style=\"color: #00d700; text-decoration-color: #00d700; font-weight: bold\">              &gt; are important, especially attending tech meetups. I don't have specific attitudes</span>\n",
       "<span style=\"color: #00d700; text-decoration-color: #00d700; font-weight: bold\">              &gt; towards people with different political views; I believe in respectful dialogue.</span>\n",
       "<span style=\"color: #00d700; text-decoration-color: #00d700; font-weight: bold\">              &gt; Ambition is part of my character, as seen in my continuous learning and career</span>\n",
       "<span style=\"color: #00d700; text-decoration-color: #00d700; font-weight: bold\">              &gt; development. Wealth is not a priority for me; I focus on my career and personal</span>\n",
       "<span style=\"color: #00d700; text-decoration-color: #00d700; font-weight: bold\">              &gt; growth. I don't have examples of engaging in social issues discussions or</span>\n",
       "<span style=\"color: #00d700; text-decoration-color: #00d700; font-weight: bold\">              &gt; activities. Lastly, my approach to luxury and lifestyle isn't specified, but I</span>\n",
       "<span style=\"color: #00d700; text-decoration-color: #00d700; font-weight: bold\">              &gt; believe in maintaining a balanced and fulfilling life.</span>\n",
       "</pre>\n"
      ],
      "text/plain": [
       "\u001b[1;4;38;5;40mAva Chen\u001b[0m\u001b[1;38;5;40m acts: \u001b[0m\u001b[1;38;5;40m[\u001b[0m\u001b[1;38;5;40mTALK\u001b[0m\u001b[1;38;5;40m]\u001b[0m\u001b[1;38;5;40m \u001b[0m\n",
       "\u001b[1;38;5;40m              > Hello! I'd be glad to answer your questions. I work as a Data Analyst for GlobalTech\u001b[0m\n",
       "\u001b[1;38;5;40m              > Solutions, where I analyze large data sets to identify trends, make predictions, and\u001b[0m\n",
       "\u001b[1;38;5;40m              > provide insights to drive business strategies. In my free time, I enjoy exploring\u001b[0m\n",
       "\u001b[1;38;5;40m              > local cuisines, volunteering at an animal shelter, and attending tech meetups. My\u001b[0m\n",
       "\u001b[1;38;5;40m              > understanding of finance, economics, and financial technology is informed by my\u001b[0m\n",
       "\u001b[1;38;5;40m              > professional role, which often intersects with these areas, especially in data\u001b[0m\n",
       "\u001b[1;38;5;40m              > analysis for financial decision-making. I don't typically work long hours or take\u001b[0m\n",
       "\u001b[1;38;5;40m              > work home, as I value work-life balance. To manage stress, I meditate, review my\u001b[0m\n",
       "\u001b[1;38;5;40m              > tasks over coffee, and exercise at the gym after work. Travel is enjoyable, but I\u001b[0m\n",
       "\u001b[1;38;5;40m              > don't have specific travel experiences to share. My food preferences aren't\u001b[0m\n",
       "\u001b[1;38;5;40m              > specified, but I like trying new recipes. I don't have information on specific\u001b[0m\n",
       "\u001b[1;38;5;40m              > activities or collectibles I'm passionate about. Social connections and networking\u001b[0m\n",
       "\u001b[1;38;5;40m              > are important, especially attending tech meetups. I don't have specific attitudes\u001b[0m\n",
       "\u001b[1;38;5;40m              > towards people with different political views; I believe in respectful dialogue.\u001b[0m\n",
       "\u001b[1;38;5;40m              > Ambition is part of my character, as seen in my continuous learning and career\u001b[0m\n",
       "\u001b[1;38;5;40m              > development. Wealth is not a priority for me; I focus on my career and personal\u001b[0m\n",
       "\u001b[1;38;5;40m              > growth. I don't have examples of engaging in social issues discussions or\u001b[0m\n",
       "\u001b[1;38;5;40m              > activities. Lastly, my approach to luxury and lifestyle isn't specified, but I\u001b[0m\n",
       "\u001b[1;38;5;40m              > believe in maintaining a balanced and fulfilling life.\u001b[0m\n"
      ]
     },
     "metadata": {},
     "output_type": "display_data"
    },
    {
     "data": {
      "text/html": [
       "<pre style=\"margin:0px;;white-space:pre;overflow-x:auto;line-height:normal;font-family:Menlo,'DejaVu Sans Mono',consolas,'Courier New',monospace\"><span style=\"color: #7fffff; text-decoration-color: #7fffff; font-style: italic; text-decoration: underline\">Ava Chen</span><span style=\"color: #7fffff; text-decoration-color: #7fffff; font-style: italic\"> --&gt; </span><span style=\"color: #7fffff; text-decoration-color: #7fffff; font-style: italic; text-decoration: underline\">Ava Chen</span><span style=\"color: #7fffff; text-decoration-color: #7fffff; font-style: italic\">: </span><span style=\"color: #7fffff; text-decoration-color: #7fffff; font-weight: bold; font-style: italic\">[</span><span style=\"color: #7fffff; text-decoration-color: #7fffff; font-style: italic\">THOUGHT</span><span style=\"color: #7fffff; text-decoration-color: #7fffff; font-weight: bold; font-style: italic\">]</span><span style=\"color: #7fffff; text-decoration-color: #7fffff; font-style: italic\"> </span>\n",
       "<span style=\"color: #7fffff; text-decoration-color: #7fffff; font-style: italic\">              &gt; I will now act a bit, and then issue DONE.</span>\n",
       "</pre>\n"
      ],
      "text/plain": [
       "\u001b[2;3;4;38;5;51mAva Chen\u001b[0m\u001b[2;3;38;5;51m --> \u001b[0m\u001b[2;3;4;38;5;51mAva Chen\u001b[0m\u001b[2;3;38;5;51m: \u001b[0m\u001b[1;2;3;38;5;51m[\u001b[0m\u001b[2;3;38;5;51mTHOUGHT\u001b[0m\u001b[1;2;3;38;5;51m]\u001b[0m\u001b[2;3;38;5;51m \u001b[0m\n",
       "\u001b[2;3;38;5;51m              > I will now act a bit, and then issue DONE.\u001b[0m\n"
      ]
     },
     "metadata": {},
     "output_type": "display_data"
    },
    {
     "data": {
      "text/html": [
       "<pre style=\"margin:0px;;white-space:pre;overflow-x:auto;line-height:normal;font-family:Menlo,'DejaVu Sans Mono',consolas,'Courier New',monospace\"><span style=\"color: #d0d0d0; text-decoration-color: #d0d0d0; text-decoration: underline\">Ava Chen</span><span style=\"color: #d0d0d0; text-decoration-color: #d0d0d0\"> acts: </span><span style=\"color: #d0d0d0; text-decoration-color: #d0d0d0; font-weight: bold\">[</span><span style=\"color: #d0d0d0; text-decoration-color: #d0d0d0\">DONE</span><span style=\"color: #d0d0d0; text-decoration-color: #d0d0d0; font-weight: bold\">]</span><span style=\"color: #d0d0d0; text-decoration-color: #d0d0d0\"> </span>\n",
       "\n",
       "</pre>\n"
      ],
      "text/plain": [
       "\u001b[4;38;5;252mAva Chen\u001b[0m\u001b[38;5;252m acts: \u001b[0m\u001b[1;38;5;252m[\u001b[0m\u001b[38;5;252mDONE\u001b[0m\u001b[1;38;5;252m]\u001b[0m\u001b[38;5;252m \u001b[0m\n",
       "\n"
      ]
     },
     "metadata": {},
     "output_type": "display_data"
    },
    {
     "data": {
      "text/html": [
       "<pre style=\"margin:0px;;white-space:pre;overflow-x:auto;line-height:normal;font-family:Menlo,'DejaVu Sans Mono',consolas,'Courier New',monospace\"><span style=\"color: #00ffff; text-decoration-color: #00ffff; font-weight: bold; font-style: italic; text-decoration: underline\">USER</span><span style=\"color: #00ffff; text-decoration-color: #00ffff; font-weight: bold; font-style: italic\"> --&gt; </span><span style=\"color: #00ffff; text-decoration-color: #00ffff; font-weight: bold; font-style: italic; text-decoration: underline\">Ava Chen</span><span style=\"color: #00ffff; text-decoration-color: #00ffff; font-weight: bold; font-style: italic\">: [CONVERSATION] </span>\n",
       "<span style=\"color: #00ffff; text-decoration-color: #00ffff; font-weight: bold; font-style: italic\">          &gt; Thank you for your responses, Ava. I have a few follow-up questions to better understand</span>\n",
       "<span style=\"color: #00ffff; text-decoration-color: #00ffff; font-weight: bold; font-style: italic\">          &gt; some aspects of your life and personality.  1. You mentioned enjoying local cuisines; do</span>\n",
       "<span style=\"color: #00ffff; text-decoration-color: #00ffff; font-weight: bold; font-style: italic\">          &gt; you also have an interest in fine dining or expensive wines? 2. Have you ever traveled</span>\n",
       "<span style=\"color: #00ffff; text-decoration-color: #00ffff; font-weight: bold; font-style: italic\">          &gt; outside of Canada? If so, what was the purpose of your travel? 3. Could you elaborate on</span>\n",
       "<span style=\"color: #00ffff; text-decoration-color: #00ffff; font-weight: bold; font-style: italic\">          &gt; your experience with financial decision-making? Have you worked on any significant</span>\n",
       "<span style=\"color: #00ffff; text-decoration-color: #00ffff; font-weight: bold; font-style: italic\">          &gt; projects in that area? 4. You mentioned attending tech meetups; do you often find</span>\n",
       "<span style=\"color: #00ffff; text-decoration-color: #00ffff; font-weight: bold; font-style: italic\">          &gt; yourself networking with influential people in your industry? 5. Can you recall a</span>\n",
       "<span style=\"color: #00ffff; text-decoration-color: #00ffff; font-weight: bold; font-style: italic\">          &gt; situation where your ambition led you to a significant achievement in your career or</span>\n",
       "<span style=\"color: #00ffff; text-decoration-color: #00ffff; font-weight: bold; font-style: italic\">          &gt; personal life? 6. Regarding your approach to wealth, do you aspire to be wealthy, or are</span>\n",
       "<span style=\"color: #00ffff; text-decoration-color: #00ffff; font-weight: bold; font-style: italic\">          &gt; you content with your current financial status? 7. You mentioned maintaining a balanced</span>\n",
       "<span style=\"color: #00ffff; text-decoration-color: #00ffff; font-weight: bold; font-style: italic\">          &gt; and fulfilling life; does that include any luxury items or experiences that you</span>\n",
       "<span style=\"color: #00ffff; text-decoration-color: #00ffff; font-weight: bold; font-style: italic\">          &gt; particularly enjoy or aspire to have? 8. Lastly, you mentioned respectful dialogue with</span>\n",
       "<span style=\"color: #00ffff; text-decoration-color: #00ffff; font-weight: bold; font-style: italic\">          &gt; people who have different political views. Have you ever found yourself in a situation</span>\n",
       "<span style=\"color: #00ffff; text-decoration-color: #00ffff; font-weight: bold; font-style: italic\">          &gt; where you had to interact with someone whose views strongly oppose yours, such as a</span>\n",
       "<span style=\"color: #00ffff; text-decoration-color: #00ffff; font-weight: bold; font-style: italic\">          &gt; communist or union supporter? How did you handle it?</span>\n",
       "</pre>\n"
      ],
      "text/plain": [
       "\u001b[1;3;4;38;5;51mUSER\u001b[0m\u001b[1;3;38;5;51m --> \u001b[0m\u001b[1;3;4;38;5;51mAva Chen\u001b[0m\u001b[1;3;38;5;51m: \u001b[0m\u001b[1;3;38;5;51m[\u001b[0m\u001b[1;3;38;5;51mCONVERSATION\u001b[0m\u001b[1;3;38;5;51m]\u001b[0m\u001b[1;3;38;5;51m \u001b[0m\n",
       "\u001b[1;3;38;5;51m          > Thank you for your responses, Ava. I have a few follow-up questions to better understand\u001b[0m\n",
       "\u001b[1;3;38;5;51m          > some aspects of your life and personality.  \u001b[0m\u001b[1;3;38;5;51m1\u001b[0m\u001b[1;3;38;5;51m. You mentioned enjoying local cuisines; do\u001b[0m\n",
       "\u001b[1;3;38;5;51m          > you also have an interest in fine dining or expensive wines? \u001b[0m\u001b[1;3;38;5;51m2\u001b[0m\u001b[1;3;38;5;51m. Have you ever traveled\u001b[0m\n",
       "\u001b[1;3;38;5;51m          > outside of Canada? If so, what was the purpose of your travel? \u001b[0m\u001b[1;3;38;5;51m3\u001b[0m\u001b[1;3;38;5;51m. Could you elaborate on\u001b[0m\n",
       "\u001b[1;3;38;5;51m          > your experience with financial decision-making? Have you worked on any significant\u001b[0m\n",
       "\u001b[1;3;38;5;51m          > projects in that area? \u001b[0m\u001b[1;3;38;5;51m4\u001b[0m\u001b[1;3;38;5;51m. You mentioned attending tech meetups; do you often find\u001b[0m\n",
       "\u001b[1;3;38;5;51m          > yourself networking with influential people in your industry? \u001b[0m\u001b[1;3;38;5;51m5\u001b[0m\u001b[1;3;38;5;51m. Can you recall a\u001b[0m\n",
       "\u001b[1;3;38;5;51m          > situation where your ambition led you to a significant achievement in your career or\u001b[0m\n",
       "\u001b[1;3;38;5;51m          > personal life? \u001b[0m\u001b[1;3;38;5;51m6\u001b[0m\u001b[1;3;38;5;51m. Regarding your approach to wealth, do you aspire to be wealthy, or are\u001b[0m\n",
       "\u001b[1;3;38;5;51m          > you content with your current financial status? \u001b[0m\u001b[1;3;38;5;51m7\u001b[0m\u001b[1;3;38;5;51m. You mentioned maintaining a balanced\u001b[0m\n",
       "\u001b[1;3;38;5;51m          > and fulfilling life; does that include any luxury items or experiences that you\u001b[0m\n",
       "\u001b[1;3;38;5;51m          > particularly enjoy or aspire to have? \u001b[0m\u001b[1;3;38;5;51m8\u001b[0m\u001b[1;3;38;5;51m. Lastly, you mentioned respectful dialogue with\u001b[0m\n",
       "\u001b[1;3;38;5;51m          > people who have different political views. Have you ever found yourself in a situation\u001b[0m\n",
       "\u001b[1;3;38;5;51m          > where you had to interact with someone whose views strongly oppose yours, such as a\u001b[0m\n",
       "\u001b[1;3;38;5;51m          > communist or union supporter? How did you handle it?\u001b[0m\n"
      ]
     },
     "metadata": {},
     "output_type": "display_data"
    },
    {
     "data": {
      "text/html": [
       "<pre style=\"margin:0px;;white-space:pre;overflow-x:auto;line-height:normal;font-family:Menlo,'DejaVu Sans Mono',consolas,'Courier New',monospace\"><span style=\"color: #7fffff; text-decoration-color: #7fffff; font-style: italic; text-decoration: underline\">Ava Chen</span><span style=\"color: #7fffff; text-decoration-color: #7fffff; font-style: italic\"> --&gt; </span><span style=\"color: #7fffff; text-decoration-color: #7fffff; font-style: italic; text-decoration: underline\">Ava Chen</span><span style=\"color: #7fffff; text-decoration-color: #7fffff; font-style: italic\">: </span><span style=\"color: #7fffff; text-decoration-color: #7fffff; font-weight: bold; font-style: italic\">[</span><span style=\"color: #7fffff; text-decoration-color: #7fffff; font-style: italic\">THOUGHT</span><span style=\"color: #7fffff; text-decoration-color: #7fffff; font-weight: bold; font-style: italic\">]</span><span style=\"color: #7fffff; text-decoration-color: #7fffff; font-style: italic\"> </span>\n",
       "<span style=\"color: #7fffff; text-decoration-color: #7fffff; font-style: italic\">              &gt; I will now act a bit, and then issue DONE.</span>\n",
       "</pre>\n"
      ],
      "text/plain": [
       "\u001b[2;3;4;38;5;51mAva Chen\u001b[0m\u001b[2;3;38;5;51m --> \u001b[0m\u001b[2;3;4;38;5;51mAva Chen\u001b[0m\u001b[2;3;38;5;51m: \u001b[0m\u001b[1;2;3;38;5;51m[\u001b[0m\u001b[2;3;38;5;51mTHOUGHT\u001b[0m\u001b[1;2;3;38;5;51m]\u001b[0m\u001b[2;3;38;5;51m \u001b[0m\n",
       "\u001b[2;3;38;5;51m              > I will now act a bit, and then issue DONE.\u001b[0m\n"
      ]
     },
     "metadata": {},
     "output_type": "display_data"
    },
    {
     "data": {
      "text/html": [
       "<pre style=\"margin:0px;;white-space:pre;overflow-x:auto;line-height:normal;font-family:Menlo,'DejaVu Sans Mono',consolas,'Courier New',monospace\"><span style=\"color: #00d700; text-decoration-color: #00d700; font-weight: bold; text-decoration: underline\">Ava Chen</span><span style=\"color: #00d700; text-decoration-color: #00d700; font-weight: bold\"> acts: [TALK] </span>\n",
       "<span style=\"color: #00d700; text-decoration-color: #00d700; font-weight: bold\">              &gt; Thank you for your interest. While I enjoy exploring local cuisines, I don't have</span>\n",
       "<span style=\"color: #00d700; text-decoration-color: #00d700; font-weight: bold\">              &gt; specific information on an interest in fine dining or expensive wines. I don't have</span>\n",
       "<span style=\"color: #00d700; text-decoration-color: #00d700; font-weight: bold\">              &gt; memories of traveling outside of Canada. In my role as a Data Analyst, I've worked</span>\n",
       "<span style=\"color: #00d700; text-decoration-color: #00d700; font-weight: bold\">              &gt; on projects that involve financial decision-making, providing data-driven insights</span>\n",
       "<span style=\"color: #00d700; text-decoration-color: #00d700; font-weight: bold\">              &gt; to support business strategies, though I can't recall specific projects. At tech</span>\n",
       "<span style=\"color: #00d700; text-decoration-color: #00d700; font-weight: bold\">              &gt; meetups, networking is a valuable part of the experience, and I do meet influential</span>\n",
       "<span style=\"color: #00d700; text-decoration-color: #00d700; font-weight: bold\">              &gt; people in the industry. I don't have a specific recollection of my ambition leading</span>\n",
       "<span style=\"color: #00d700; text-decoration-color: #00d700; font-weight: bold\">              &gt; to a significant achievement. As for wealth, I focus more on personal growth and job</span>\n",
       "<span style=\"color: #00d700; text-decoration-color: #00d700; font-weight: bold\">              &gt; satisfaction than on aspiring to be wealthy. I don't have details on luxury items or</span>\n",
       "<span style=\"color: #00d700; text-decoration-color: #00d700; font-weight: bold\">              &gt; experiences that I enjoy or aspire to have. Lastly, I believe in respectful dialogue</span>\n",
       "<span style=\"color: #00d700; text-decoration-color: #00d700; font-weight: bold\">              &gt; with everyone, regardless of their views, but I don't have a specific memory of</span>\n",
       "<span style=\"color: #00d700; text-decoration-color: #00d700; font-weight: bold\">              &gt; interacting with someone whose views strongly oppose mine, such as a communist or</span>\n",
       "<span style=\"color: #00d700; text-decoration-color: #00d700; font-weight: bold\">              &gt; union supporter.</span>\n",
       "</pre>\n"
      ],
      "text/plain": [
       "\u001b[1;4;38;5;40mAva Chen\u001b[0m\u001b[1;38;5;40m acts: \u001b[0m\u001b[1;38;5;40m[\u001b[0m\u001b[1;38;5;40mTALK\u001b[0m\u001b[1;38;5;40m]\u001b[0m\u001b[1;38;5;40m \u001b[0m\n",
       "\u001b[1;38;5;40m              > Thank you for your interest. While I enjoy exploring local cuisines, I don't have\u001b[0m\n",
       "\u001b[1;38;5;40m              > specific information on an interest in fine dining or expensive wines. I don't have\u001b[0m\n",
       "\u001b[1;38;5;40m              > memories of traveling outside of Canada. In my role as a Data Analyst, I've worked\u001b[0m\n",
       "\u001b[1;38;5;40m              > on projects that involve financial decision-making, providing data-driven insights\u001b[0m\n",
       "\u001b[1;38;5;40m              > to support business strategies, though I can't recall specific projects. At tech\u001b[0m\n",
       "\u001b[1;38;5;40m              > meetups, networking is a valuable part of the experience, and I do meet influential\u001b[0m\n",
       "\u001b[1;38;5;40m              > people in the industry. I don't have a specific recollection of my ambition leading\u001b[0m\n",
       "\u001b[1;38;5;40m              > to a significant achievement. As for wealth, I focus more on personal growth and job\u001b[0m\n",
       "\u001b[1;38;5;40m              > satisfaction than on aspiring to be wealthy. I don't have details on luxury items or\u001b[0m\n",
       "\u001b[1;38;5;40m              > experiences that I enjoy or aspire to have. Lastly, I believe in respectful dialogue\u001b[0m\n",
       "\u001b[1;38;5;40m              > with everyone, regardless of their views, but I don't have a specific memory of\u001b[0m\n",
       "\u001b[1;38;5;40m              > interacting with someone whose views strongly oppose mine, such as a communist or\u001b[0m\n",
       "\u001b[1;38;5;40m              > union supporter.\u001b[0m\n"
      ]
     },
     "metadata": {},
     "output_type": "display_data"
    },
    {
     "data": {
      "text/html": [
       "<pre style=\"margin:0px;;white-space:pre;overflow-x:auto;line-height:normal;font-family:Menlo,'DejaVu Sans Mono',consolas,'Courier New',monospace\"><span style=\"color: #7fffff; text-decoration-color: #7fffff; font-style: italic; text-decoration: underline\">Ava Chen</span><span style=\"color: #7fffff; text-decoration-color: #7fffff; font-style: italic\"> --&gt; </span><span style=\"color: #7fffff; text-decoration-color: #7fffff; font-style: italic; text-decoration: underline\">Ava Chen</span><span style=\"color: #7fffff; text-decoration-color: #7fffff; font-style: italic\">: </span><span style=\"color: #7fffff; text-decoration-color: #7fffff; font-weight: bold; font-style: italic\">[</span><span style=\"color: #7fffff; text-decoration-color: #7fffff; font-style: italic\">THOUGHT</span><span style=\"color: #7fffff; text-decoration-color: #7fffff; font-weight: bold; font-style: italic\">]</span><span style=\"color: #7fffff; text-decoration-color: #7fffff; font-style: italic\"> </span>\n",
       "<span style=\"color: #7fffff; text-decoration-color: #7fffff; font-style: italic\">              &gt; I will now act a bit, and then issue DONE.</span>\n",
       "</pre>\n"
      ],
      "text/plain": [
       "\u001b[2;3;4;38;5;51mAva Chen\u001b[0m\u001b[2;3;38;5;51m --> \u001b[0m\u001b[2;3;4;38;5;51mAva Chen\u001b[0m\u001b[2;3;38;5;51m: \u001b[0m\u001b[1;2;3;38;5;51m[\u001b[0m\u001b[2;3;38;5;51mTHOUGHT\u001b[0m\u001b[1;2;3;38;5;51m]\u001b[0m\u001b[2;3;38;5;51m \u001b[0m\n",
       "\u001b[2;3;38;5;51m              > I will now act a bit, and then issue DONE.\u001b[0m\n"
      ]
     },
     "metadata": {},
     "output_type": "display_data"
    },
    {
     "data": {
      "text/html": [
       "<pre style=\"margin:0px;;white-space:pre;overflow-x:auto;line-height:normal;font-family:Menlo,'DejaVu Sans Mono',consolas,'Courier New',monospace\"><span style=\"color: #d0d0d0; text-decoration-color: #d0d0d0; text-decoration: underline\">Ava Chen</span><span style=\"color: #d0d0d0; text-decoration-color: #d0d0d0\"> acts: </span><span style=\"color: #d0d0d0; text-decoration-color: #d0d0d0; font-weight: bold\">[</span><span style=\"color: #d0d0d0; text-decoration-color: #d0d0d0\">DONE</span><span style=\"color: #d0d0d0; text-decoration-color: #d0d0d0; font-weight: bold\">]</span><span style=\"color: #d0d0d0; text-decoration-color: #d0d0d0\"> </span>\n",
       "\n",
       "</pre>\n"
      ],
      "text/plain": [
       "\u001b[4;38;5;252mAva Chen\u001b[0m\u001b[38;5;252m acts: \u001b[0m\u001b[1;38;5;252m[\u001b[0m\u001b[38;5;252mDONE\u001b[0m\u001b[1;38;5;252m]\u001b[0m\u001b[38;5;252m \u001b[0m\n",
       "\n"
      ]
     },
     "metadata": {},
     "output_type": "display_data"
    }
   ],
   "source": [
    "wrong_expectations_score, wrong_expectations_justification = TinyPersonValidator.validate_person(busy_knowledge_worker, expectations=banker_expectations, include_agent_spec=False, max_content_length=None)\n"
   ]
  },
  {
   "cell_type": "code",
   "execution_count": 17,
   "metadata": {},
   "outputs": [
    {
     "data": {
      "text/plain": [
       "0.1"
      ]
     },
     "execution_count": 17,
     "metadata": {},
     "output_type": "execute_result"
    }
   ],
   "source": [
    "wrong_expectations_score"
   ]
  },
  {
   "cell_type": "code",
   "execution_count": 18,
   "metadata": {},
   "outputs": [
    {
     "name": "stdout",
     "output_type": "stream",
     "text": [
      "Ava Chen does not align with the expectations provided. She is a 29-year-old Data Analyst, which\n",
      "contrasts with the expectation of someone in their 40s or 50s with deep knowledge of finance,\n",
      "economics, and financial technology. Her approach to work-life balance and stress management\n",
      "suggests she is not a workaholic with stress issues. Ava does not mention traveling to other\n",
      "countries, collecting art, playing golf, or reading books as hobbies, nor does she express a\n",
      "particular interest in fine dining or expensive wines. Her networking at tech meetups does not\n",
      "necessarily indicate she has a lot of connections in the sense of being influential or powerful. Ava\n",
      "does not display snobbish behavior or a facade of being 'woke' for career advancement. Her focus on\n",
      "personal growth and job satisfaction over wealth and luxury also does not match the profile of a\n",
      "wealthy individual. Therefore, Ava's characteristics and responses do not meet the expectations of\n",
      "being wealthy, very intelligent and ambitious with a lot of connections, and having specific tastes\n",
      "and notable traits as described.\n"
     ]
    }
   ],
   "source": [
    "# how to word wrap a string:\n",
    "print(textwrap.fill(wrong_expectations_justification, width=100))"
   ]
  },
  {
   "cell_type": "code",
   "execution_count": null,
   "metadata": {},
   "outputs": [],
   "source": []
  }
 ],
 "metadata": {
  "kernelspec": {
   "display_name": "base",
   "language": "python",
   "name": "python3"
  },
  "language_info": {
   "codemirror_mode": {
    "name": "ipython",
    "version": 3
   },
   "file_extension": ".py",
   "mimetype": "text/x-python",
   "name": "python",
   "nbconvert_exporter": "python",
   "pygments_lexer": "ipython3",
   "version": "3.10.13"
  },
  "orig_nbformat": 4
 },
 "nbformat": 4,
 "nbformat_minor": 2
}
