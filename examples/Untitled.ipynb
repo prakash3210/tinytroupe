{
 "cells": [
  {
   "cell_type": "code",
   "execution_count": 1,
   "id": "b7f63c4c-8e87-465b-86d0-32ed91be3389",
   "metadata": {},
   "outputs": [
    {
     "name": "stdout",
     "output_type": "stream",
     "text": [
      "\n",
      "!!!!\n",
      "DISCLAIMER: TinyTroupe relies on Artificial Intelligence (AI) models to generate content. \n",
      "The AI models are not perfect and may produce inappropriate or inacurate results. \n",
      "For any serious or consequential use, please review the generated content before using it.\n",
      "!!!!\n",
      "\n",
      "Looking for default config on: /usr/local/Caskroom/miniconda/base/envs/tinytroupe/lib/python3.10/site-packages/tinytroupe/config.ini\n",
      "Found custom config on: /Users/prakashsharma/workspaces/llm-workspace/tiny-troupe/tinytroupe/examples/config.ini\n",
      "\n",
      "=================================\n",
      "Current TinyTroupe configuration \n",
      "=================================\n",
      "[OpenAI]\n",
      "api_type = openai\n",
      "azure_api_version = 2023-05-15\n",
      "model = gpt-4o\n",
      "max_tokens = 4000\n",
      "temperature = 0.3\n",
      "freq_penalty = 0.0\n",
      "presence_penalty = 0.0\n",
      "timeout = 60\n",
      "max_attempts = 5\n",
      "waiting_time = 1\n",
      "exponential_backoff_factor = 5\n",
      "embedding_model = text-embedding-3-small\n",
      "cache_api_calls = False\n",
      "cache_file_name = openai_api_cache.pickle\n",
      "max_content_display_length = 1024\n",
      "\n",
      "[Simulation]\n",
      "rai_harmful_content_prevention = True\n",
      "rai_copyright_infringement_prevention = True\n",
      "\n",
      "[Logging]\n",
      "loglevel = ERROR\n",
      "\n"
     ]
    }
   ],
   "source": [
    "import json\n",
    "import sys\n",
    "sys.path.append('..')\n",
    "\n",
    "import tinytroupe\n",
    "from tinytroupe.agent import TinyPerson\n",
    "from tinytroupe.environment import TinyWorld, TinySocialNetwork\n",
    "from tinytroupe.factory import TinyPersonFactory\n",
    "from tinytroupe.extraction import default_extractor as extractor\n",
    "from tinytroupe.extraction import ResultsReducer\n",
    "import tinytroupe.control as control"
   ]
  },
  {
   "cell_type": "code",
   "execution_count": 5,
   "id": "ebc21c42-8478-4fba-8120-0d84d1f88949",
   "metadata": {},
   "outputs": [],
   "source": [
    "factory = TinyPersonFactory(\"One of the largest banks in India, full of bureaucracy and legacy systems.\")\n",
    "\n",
    "customer = factory.generate_person(\n",
    "    \"\"\"\n",
    "    The vice-president Ranbir Kapoor of one product innovation. Has a degree in engineering and a MBA in finance. \n",
    "    Is facing a lot of pressure from the board of directors to fight off the competition from the fintechs.    \n",
    "    \"\"\"\n",
    ")"
   ]
  },
  {
   "cell_type": "code",
   "execution_count": 7,
   "id": "89cf19cc-31be-4e82-b732-95a76352730c",
   "metadata": {},
   "outputs": [
    {
     "data": {
      "text/plain": [
       "'Ranbir Kapoor is a 42 year old Vice-President of Product Innovation, Indian, currently living in India.'"
      ]
     },
     "execution_count": 7,
     "metadata": {},
     "output_type": "execute_result"
    }
   ],
   "source": [
    "customer.minibio()"
   ]
  },
  {
   "cell_type": "code",
   "execution_count": 8,
   "id": "b2da311e-6630-48da-93b6-b05bc9cd2c7b",
   "metadata": {},
   "outputs": [
    {
     "data": {
      "text/html": [
       "<pre style=\"margin:0px;;white-space:pre;overflow-x:auto;line-height:normal;font-family:Menlo,'DejaVu Sans Mono',consolas,'Courier New',monospace\"><span style=\"color: #7fffff; text-decoration-color: #7fffff; font-style: italic; text-decoration: underline\">Ranbir Kapoor</span><span style=\"color: #7fffff; text-decoration-color: #7fffff; font-style: italic\"> --&gt; </span><span style=\"color: #7fffff; text-decoration-color: #7fffff; font-style: italic; text-decoration: underline\">Ranbir Kapoor</span><span style=\"color: #7fffff; text-decoration-color: #7fffff; font-style: italic\">: </span><span style=\"color: #7fffff; text-decoration-color: #7fffff; font-weight: bold; font-style: italic\">[</span><span style=\"color: #7fffff; text-decoration-color: #7fffff; font-style: italic\">THOUGHT</span><span style=\"color: #7fffff; text-decoration-color: #7fffff; font-weight: bold; font-style: italic\">]</span><span style=\"color: #7fffff; text-decoration-color: #7fffff; font-style: italic\"> </span>\n",
       "<span style=\"color: #7fffff; text-decoration-color: #7fffff; font-style: italic\">                   &gt; I am now talking to a business and technology consultant to help me with my</span>\n",
       "<span style=\"color: #7fffff; text-decoration-color: #7fffff; font-style: italic\">                   &gt; professional problems.</span>\n",
       "</pre>\n"
      ],
      "text/plain": [
       "\u001b[2;3;4;38;5;51mRanbir Kapoor\u001b[0m\u001b[2;3;38;5;51m --> \u001b[0m\u001b[2;3;4;38;5;51mRanbir Kapoor\u001b[0m\u001b[2;3;38;5;51m: \u001b[0m\u001b[1;2;3;38;5;51m[\u001b[0m\u001b[2;3;38;5;51mTHOUGHT\u001b[0m\u001b[1;2;3;38;5;51m]\u001b[0m\u001b[2;3;38;5;51m \u001b[0m\n",
       "\u001b[2;3;38;5;51m                   > I am now talking to a business and technology consultant to help me with my\u001b[0m\n",
       "\u001b[2;3;38;5;51m                   > professional problems.\u001b[0m\n"
      ]
     },
     "metadata": {},
     "output_type": "display_data"
    },
    {
     "data": {
      "text/plain": [
       "TinyPerson(name='Ranbir Kapoor')"
      ]
     },
     "execution_count": 8,
     "metadata": {},
     "output_type": "execute_result"
    }
   ],
   "source": [
    "customer.think(\"I am now talking to a business and technology consultant to help me with my professional problems.\")"
   ]
  },
  {
   "cell_type": "code",
   "execution_count": 9,
   "id": "145aaea3-3571-4368-b27f-72fcb9b10b74",
   "metadata": {},
   "outputs": [
    {
     "data": {
      "text/html": [
       "<pre style=\"margin:0px;;white-space:pre;overflow-x:auto;line-height:normal;font-family:Menlo,'DejaVu Sans Mono',consolas,'Courier New',monospace\"><span style=\"color: #00ffff; text-decoration-color: #00ffff; font-weight: bold; font-style: italic; text-decoration: underline\">USER</span><span style=\"color: #00ffff; text-decoration-color: #00ffff; font-weight: bold; font-style: italic\"> --&gt; </span><span style=\"color: #00ffff; text-decoration-color: #00ffff; font-weight: bold; font-style: italic; text-decoration: underline\">Ranbir Kapoor</span><span style=\"color: #00ffff; text-decoration-color: #00ffff; font-weight: bold; font-style: italic\">: [CONVERSATION] </span>\n",
       "<span style=\"color: #00ffff; text-decoration-color: #00ffff; font-weight: bold; font-style: italic\">          &gt; What would you say are your main problems today? Please be as specific as possible.</span>\n",
       "</pre>\n"
      ],
      "text/plain": [
       "\u001b[1;3;4;38;5;51mUSER\u001b[0m\u001b[1;3;38;5;51m --> \u001b[0m\u001b[1;3;4;38;5;51mRanbir Kapoor\u001b[0m\u001b[1;3;38;5;51m: \u001b[0m\u001b[1;3;38;5;51m[\u001b[0m\u001b[1;3;38;5;51mCONVERSATION\u001b[0m\u001b[1;3;38;5;51m]\u001b[0m\u001b[1;3;38;5;51m \u001b[0m\n",
       "\u001b[1;3;38;5;51m          > What would you say are your main problems today? Please be as specific as possible.\u001b[0m\n"
      ]
     },
     "metadata": {},
     "output_type": "display_data"
    },
    {
     "data": {
      "text/html": [
       "<pre style=\"margin:0px;;white-space:pre;overflow-x:auto;line-height:normal;font-family:Menlo,'DejaVu Sans Mono',consolas,'Courier New',monospace\"><span style=\"color: #7fffff; text-decoration-color: #7fffff; font-style: italic; text-decoration: underline\">Ranbir Kapoor</span><span style=\"color: #7fffff; text-decoration-color: #7fffff; font-style: italic\"> --&gt; </span><span style=\"color: #7fffff; text-decoration-color: #7fffff; font-style: italic; text-decoration: underline\">Ranbir Kapoor</span><span style=\"color: #7fffff; text-decoration-color: #7fffff; font-style: italic\">: </span><span style=\"color: #7fffff; text-decoration-color: #7fffff; font-weight: bold; font-style: italic\">[</span><span style=\"color: #7fffff; text-decoration-color: #7fffff; font-style: italic\">THOUGHT</span><span style=\"color: #7fffff; text-decoration-color: #7fffff; font-weight: bold; font-style: italic\">]</span><span style=\"color: #7fffff; text-decoration-color: #7fffff; font-style: italic\"> </span>\n",
       "<span style=\"color: #7fffff; text-decoration-color: #7fffff; font-style: italic\">                   &gt; I will now act a bit, and then issue DONE.</span>\n",
       "</pre>\n"
      ],
      "text/plain": [
       "\u001b[2;3;4;38;5;51mRanbir Kapoor\u001b[0m\u001b[2;3;38;5;51m --> \u001b[0m\u001b[2;3;4;38;5;51mRanbir Kapoor\u001b[0m\u001b[2;3;38;5;51m: \u001b[0m\u001b[1;2;3;38;5;51m[\u001b[0m\u001b[2;3;38;5;51mTHOUGHT\u001b[0m\u001b[1;2;3;38;5;51m]\u001b[0m\u001b[2;3;38;5;51m \u001b[0m\n",
       "\u001b[2;3;38;5;51m                   > I will now act a bit, and then issue DONE.\u001b[0m\n"
      ]
     },
     "metadata": {},
     "output_type": "display_data"
    },
    {
     "data": {
      "text/html": [
       "<pre style=\"margin:0px;;white-space:pre;overflow-x:auto;line-height:normal;font-family:Menlo,'DejaVu Sans Mono',consolas,'Courier New',monospace\"><span style=\"color: #008000; text-decoration-color: #008000; text-decoration: underline\">Ranbir Kapoor</span><span style=\"color: #008000; text-decoration-color: #008000\"> acts: </span><span style=\"color: #008000; text-decoration-color: #008000; font-weight: bold\">[</span><span style=\"color: #008000; text-decoration-color: #008000\">THINK</span><span style=\"color: #008000; text-decoration-color: #008000; font-weight: bold\">]</span><span style=\"color: #008000; text-decoration-color: #008000\"> </span>\n",
       "<span style=\"color: #008000; text-decoration-color: #008000\">                   &gt; I need to identify the main challenges I'm facing in my role.</span>\n",
       "</pre>\n"
      ],
      "text/plain": [
       "\u001b[4;32mRanbir Kapoor\u001b[0m\u001b[32m acts: \u001b[0m\u001b[1;32m[\u001b[0m\u001b[32mTHINK\u001b[0m\u001b[1;32m]\u001b[0m\u001b[32m \u001b[0m\n",
       "\u001b[32m                   > I need to identify the main challenges I'm facing in my role.\u001b[0m\n"
      ]
     },
     "metadata": {},
     "output_type": "display_data"
    },
    {
     "data": {
      "text/html": [
       "<pre style=\"margin:0px;;white-space:pre;overflow-x:auto;line-height:normal;font-family:Menlo,'DejaVu Sans Mono',consolas,'Courier New',monospace\"><span style=\"color: #7fffff; text-decoration-color: #7fffff; font-style: italic; text-decoration: underline\">Ranbir Kapoor</span><span style=\"color: #7fffff; text-decoration-color: #7fffff; font-style: italic\"> --&gt; </span><span style=\"color: #7fffff; text-decoration-color: #7fffff; font-style: italic; text-decoration: underline\">Ranbir Kapoor</span><span style=\"color: #7fffff; text-decoration-color: #7fffff; font-style: italic\">: </span><span style=\"color: #7fffff; text-decoration-color: #7fffff; font-weight: bold; font-style: italic\">[</span><span style=\"color: #7fffff; text-decoration-color: #7fffff; font-style: italic\">THOUGHT</span><span style=\"color: #7fffff; text-decoration-color: #7fffff; font-weight: bold; font-style: italic\">]</span><span style=\"color: #7fffff; text-decoration-color: #7fffff; font-style: italic\"> </span>\n",
       "<span style=\"color: #7fffff; text-decoration-color: #7fffff; font-style: italic\">                   &gt; I will now act a bit, and then issue DONE.</span>\n",
       "</pre>\n"
      ],
      "text/plain": [
       "\u001b[2;3;4;38;5;51mRanbir Kapoor\u001b[0m\u001b[2;3;38;5;51m --> \u001b[0m\u001b[2;3;4;38;5;51mRanbir Kapoor\u001b[0m\u001b[2;3;38;5;51m: \u001b[0m\u001b[1;2;3;38;5;51m[\u001b[0m\u001b[2;3;38;5;51mTHOUGHT\u001b[0m\u001b[1;2;3;38;5;51m]\u001b[0m\u001b[2;3;38;5;51m \u001b[0m\n",
       "\u001b[2;3;38;5;51m                   > I will now act a bit, and then issue DONE.\u001b[0m\n"
      ]
     },
     "metadata": {},
     "output_type": "display_data"
    },
    {
     "data": {
      "text/html": [
       "<pre style=\"margin:0px;;white-space:pre;overflow-x:auto;line-height:normal;font-family:Menlo,'DejaVu Sans Mono',consolas,'Courier New',monospace\"><span style=\"color: #00d700; text-decoration-color: #00d700; font-weight: bold; text-decoration: underline\">Ranbir Kapoor</span><span style=\"color: #00d700; text-decoration-color: #00d700; font-weight: bold\"> acts: [TALK] </span>\n",
       "<span style=\"color: #00d700; text-decoration-color: #00d700; font-weight: bold\">                   &gt; One of the main challenges I'm facing today is the pressure to deliver</span>\n",
       "<span style=\"color: #00d700; text-decoration-color: #00d700; font-weight: bold\">                   &gt; innovative products quickly while ensuring they meet regulatory standards.</span>\n",
       "<span style=\"color: #00d700; text-decoration-color: #00d700; font-weight: bold\">                   &gt; Additionally, integrating new technologies like AI and machine learning into</span>\n",
       "<span style=\"color: #00d700; text-decoration-color: #00d700; font-weight: bold\">                   &gt; our banking services is complex and requires careful planning and execution.</span>\n",
       "<span style=\"color: #00d700; text-decoration-color: #00d700; font-weight: bold\">                   &gt; Collaborating effectively with various departments to streamline processes is</span>\n",
       "<span style=\"color: #00d700; text-decoration-color: #00d700; font-weight: bold\">                   &gt; also a significant challenge.</span>\n",
       "</pre>\n"
      ],
      "text/plain": [
       "\u001b[1;4;38;5;40mRanbir Kapoor\u001b[0m\u001b[1;38;5;40m acts: \u001b[0m\u001b[1;38;5;40m[\u001b[0m\u001b[1;38;5;40mTALK\u001b[0m\u001b[1;38;5;40m]\u001b[0m\u001b[1;38;5;40m \u001b[0m\n",
       "\u001b[1;38;5;40m                   > One of the main challenges I'm facing today is the pressure to deliver\u001b[0m\n",
       "\u001b[1;38;5;40m                   > innovative products quickly while ensuring they meet regulatory standards.\u001b[0m\n",
       "\u001b[1;38;5;40m                   > Additionally, integrating new technologies like AI and machine learning into\u001b[0m\n",
       "\u001b[1;38;5;40m                   > our banking services is complex and requires careful planning and execution.\u001b[0m\n",
       "\u001b[1;38;5;40m                   > Collaborating effectively with various departments to streamline processes is\u001b[0m\n",
       "\u001b[1;38;5;40m                   > also a significant challenge.\u001b[0m\n"
      ]
     },
     "metadata": {},
     "output_type": "display_data"
    },
    {
     "data": {
      "text/html": [
       "<pre style=\"margin:0px;;white-space:pre;overflow-x:auto;line-height:normal;font-family:Menlo,'DejaVu Sans Mono',consolas,'Courier New',monospace\"><span style=\"color: #7fffff; text-decoration-color: #7fffff; font-style: italic; text-decoration: underline\">Ranbir Kapoor</span><span style=\"color: #7fffff; text-decoration-color: #7fffff; font-style: italic\"> --&gt; </span><span style=\"color: #7fffff; text-decoration-color: #7fffff; font-style: italic; text-decoration: underline\">Ranbir Kapoor</span><span style=\"color: #7fffff; text-decoration-color: #7fffff; font-style: italic\">: </span><span style=\"color: #7fffff; text-decoration-color: #7fffff; font-weight: bold; font-style: italic\">[</span><span style=\"color: #7fffff; text-decoration-color: #7fffff; font-style: italic\">THOUGHT</span><span style=\"color: #7fffff; text-decoration-color: #7fffff; font-weight: bold; font-style: italic\">]</span><span style=\"color: #7fffff; text-decoration-color: #7fffff; font-style: italic\"> </span>\n",
       "<span style=\"color: #7fffff; text-decoration-color: #7fffff; font-style: italic\">                   &gt; I will now act a bit, and then issue DONE.</span>\n",
       "</pre>\n"
      ],
      "text/plain": [
       "\u001b[2;3;4;38;5;51mRanbir Kapoor\u001b[0m\u001b[2;3;38;5;51m --> \u001b[0m\u001b[2;3;4;38;5;51mRanbir Kapoor\u001b[0m\u001b[2;3;38;5;51m: \u001b[0m\u001b[1;2;3;38;5;51m[\u001b[0m\u001b[2;3;38;5;51mTHOUGHT\u001b[0m\u001b[1;2;3;38;5;51m]\u001b[0m\u001b[2;3;38;5;51m \u001b[0m\n",
       "\u001b[2;3;38;5;51m                   > I will now act a bit, and then issue DONE.\u001b[0m\n"
      ]
     },
     "metadata": {},
     "output_type": "display_data"
    },
    {
     "data": {
      "text/html": [
       "<pre style=\"margin:0px;;white-space:pre;overflow-x:auto;line-height:normal;font-family:Menlo,'DejaVu Sans Mono',consolas,'Courier New',monospace\"><span style=\"color: #d0d0d0; text-decoration-color: #d0d0d0; text-decoration: underline\">Ranbir Kapoor</span><span style=\"color: #d0d0d0; text-decoration-color: #d0d0d0\"> acts: </span><span style=\"color: #d0d0d0; text-decoration-color: #d0d0d0; font-weight: bold\">[</span><span style=\"color: #d0d0d0; text-decoration-color: #d0d0d0\">DONE</span><span style=\"color: #d0d0d0; text-decoration-color: #d0d0d0; font-weight: bold\">]</span><span style=\"color: #d0d0d0; text-decoration-color: #d0d0d0\"> </span>\n",
       "\n",
       "</pre>\n"
      ],
      "text/plain": [
       "\u001b[4;38;5;252mRanbir Kapoor\u001b[0m\u001b[38;5;252m acts: \u001b[0m\u001b[1;38;5;252m[\u001b[0m\u001b[38;5;252mDONE\u001b[0m\u001b[1;38;5;252m]\u001b[0m\u001b[38;5;252m \u001b[0m\n",
       "\n"
      ]
     },
     "metadata": {},
     "output_type": "display_data"
    }
   ],
   "source": [
    "customer.listen_and_act(\"What would you say are your main problems today? Please be as specific as possible.\", \n",
    "                        max_content_length=3000)"
   ]
  },
  {
   "cell_type": "code",
   "execution_count": 10,
   "id": "0fe17f61-8c1f-446c-bc9c-8a5dcec81cc2",
   "metadata": {},
   "outputs": [
    {
     "data": {
      "text/html": [
       "<pre style=\"margin:0px;;white-space:pre;overflow-x:auto;line-height:normal;font-family:Menlo,'DejaVu Sans Mono',consolas,'Courier New',monospace\"><span style=\"color: #00ffff; text-decoration-color: #00ffff; font-weight: bold; font-style: italic; text-decoration: underline\">USER</span><span style=\"color: #00ffff; text-decoration-color: #00ffff; font-weight: bold; font-style: italic\"> --&gt; </span><span style=\"color: #00ffff; text-decoration-color: #00ffff; font-weight: bold; font-style: italic; text-decoration: underline\">Ranbir Kapoor</span><span style=\"color: #00ffff; text-decoration-color: #00ffff; font-weight: bold; font-style: italic\">: [CONVERSATION] </span>\n",
       "<span style=\"color: #00ffff; text-decoration-color: #00ffff; font-weight: bold; font-style: italic\">          &gt; If you could improve in one of these aspects to better compete, what would that be?</span>\n",
       "</pre>\n"
      ],
      "text/plain": [
       "\u001b[1;3;4;38;5;51mUSER\u001b[0m\u001b[1;3;38;5;51m --> \u001b[0m\u001b[1;3;4;38;5;51mRanbir Kapoor\u001b[0m\u001b[1;3;38;5;51m: \u001b[0m\u001b[1;3;38;5;51m[\u001b[0m\u001b[1;3;38;5;51mCONVERSATION\u001b[0m\u001b[1;3;38;5;51m]\u001b[0m\u001b[1;3;38;5;51m \u001b[0m\n",
       "\u001b[1;3;38;5;51m          > If you could improve in one of these aspects to better compete, what would that be?\u001b[0m\n"
      ]
     },
     "metadata": {},
     "output_type": "display_data"
    },
    {
     "data": {
      "text/html": [
       "<pre style=\"margin:0px;;white-space:pre;overflow-x:auto;line-height:normal;font-family:Menlo,'DejaVu Sans Mono',consolas,'Courier New',monospace\"><span style=\"color: #7fffff; text-decoration-color: #7fffff; font-style: italic; text-decoration: underline\">Ranbir Kapoor</span><span style=\"color: #7fffff; text-decoration-color: #7fffff; font-style: italic\"> --&gt; </span><span style=\"color: #7fffff; text-decoration-color: #7fffff; font-style: italic; text-decoration: underline\">Ranbir Kapoor</span><span style=\"color: #7fffff; text-decoration-color: #7fffff; font-style: italic\">: </span><span style=\"color: #7fffff; text-decoration-color: #7fffff; font-weight: bold; font-style: italic\">[</span><span style=\"color: #7fffff; text-decoration-color: #7fffff; font-style: italic\">THOUGHT</span><span style=\"color: #7fffff; text-decoration-color: #7fffff; font-weight: bold; font-style: italic\">]</span><span style=\"color: #7fffff; text-decoration-color: #7fffff; font-style: italic\"> </span>\n",
       "<span style=\"color: #7fffff; text-decoration-color: #7fffff; font-style: italic\">                   &gt; I will now act a bit, and then issue DONE.</span>\n",
       "</pre>\n"
      ],
      "text/plain": [
       "\u001b[2;3;4;38;5;51mRanbir Kapoor\u001b[0m\u001b[2;3;38;5;51m --> \u001b[0m\u001b[2;3;4;38;5;51mRanbir Kapoor\u001b[0m\u001b[2;3;38;5;51m: \u001b[0m\u001b[1;2;3;38;5;51m[\u001b[0m\u001b[2;3;38;5;51mTHOUGHT\u001b[0m\u001b[1;2;3;38;5;51m]\u001b[0m\u001b[2;3;38;5;51m \u001b[0m\n",
       "\u001b[2;3;38;5;51m                   > I will now act a bit, and then issue DONE.\u001b[0m\n"
      ]
     },
     "metadata": {},
     "output_type": "display_data"
    },
    {
     "data": {
      "text/html": [
       "<pre style=\"margin:0px;;white-space:pre;overflow-x:auto;line-height:normal;font-family:Menlo,'DejaVu Sans Mono',consolas,'Courier New',monospace\"><span style=\"color: #008000; text-decoration-color: #008000; text-decoration: underline\">Ranbir Kapoor</span><span style=\"color: #008000; text-decoration-color: #008000\"> acts: </span><span style=\"color: #008000; text-decoration-color: #008000; font-weight: bold\">[</span><span style=\"color: #008000; text-decoration-color: #008000\">THINK</span><span style=\"color: #008000; text-decoration-color: #008000; font-weight: bold\">]</span><span style=\"color: #008000; text-decoration-color: #008000\"> </span>\n",
       "<span style=\"color: #008000; text-decoration-color: #008000\">                   &gt; I need to consider which aspect of my challenges would most benefit from</span>\n",
       "<span style=\"color: #008000; text-decoration-color: #008000\">                   &gt; improvement.</span>\n",
       "</pre>\n"
      ],
      "text/plain": [
       "\u001b[4;32mRanbir Kapoor\u001b[0m\u001b[32m acts: \u001b[0m\u001b[1;32m[\u001b[0m\u001b[32mTHINK\u001b[0m\u001b[1;32m]\u001b[0m\u001b[32m \u001b[0m\n",
       "\u001b[32m                   > I need to consider which aspect of my challenges would most benefit from\u001b[0m\n",
       "\u001b[32m                   > improvement.\u001b[0m\n"
      ]
     },
     "metadata": {},
     "output_type": "display_data"
    },
    {
     "data": {
      "text/html": [
       "<pre style=\"margin:0px;;white-space:pre;overflow-x:auto;line-height:normal;font-family:Menlo,'DejaVu Sans Mono',consolas,'Courier New',monospace\"><span style=\"color: #7fffff; text-decoration-color: #7fffff; font-style: italic; text-decoration: underline\">Ranbir Kapoor</span><span style=\"color: #7fffff; text-decoration-color: #7fffff; font-style: italic\"> --&gt; </span><span style=\"color: #7fffff; text-decoration-color: #7fffff; font-style: italic; text-decoration: underline\">Ranbir Kapoor</span><span style=\"color: #7fffff; text-decoration-color: #7fffff; font-style: italic\">: </span><span style=\"color: #7fffff; text-decoration-color: #7fffff; font-weight: bold; font-style: italic\">[</span><span style=\"color: #7fffff; text-decoration-color: #7fffff; font-style: italic\">THOUGHT</span><span style=\"color: #7fffff; text-decoration-color: #7fffff; font-weight: bold; font-style: italic\">]</span><span style=\"color: #7fffff; text-decoration-color: #7fffff; font-style: italic\"> </span>\n",
       "<span style=\"color: #7fffff; text-decoration-color: #7fffff; font-style: italic\">                   &gt; I will now act a bit, and then issue DONE.</span>\n",
       "</pre>\n"
      ],
      "text/plain": [
       "\u001b[2;3;4;38;5;51mRanbir Kapoor\u001b[0m\u001b[2;3;38;5;51m --> \u001b[0m\u001b[2;3;4;38;5;51mRanbir Kapoor\u001b[0m\u001b[2;3;38;5;51m: \u001b[0m\u001b[1;2;3;38;5;51m[\u001b[0m\u001b[2;3;38;5;51mTHOUGHT\u001b[0m\u001b[1;2;3;38;5;51m]\u001b[0m\u001b[2;3;38;5;51m \u001b[0m\n",
       "\u001b[2;3;38;5;51m                   > I will now act a bit, and then issue DONE.\u001b[0m\n"
      ]
     },
     "metadata": {},
     "output_type": "display_data"
    },
    {
     "data": {
      "text/html": [
       "<pre style=\"margin:0px;;white-space:pre;overflow-x:auto;line-height:normal;font-family:Menlo,'DejaVu Sans Mono',consolas,'Courier New',monospace\"><span style=\"color: #00d700; text-decoration-color: #00d700; font-weight: bold; text-decoration: underline\">Ranbir Kapoor</span><span style=\"color: #00d700; text-decoration-color: #00d700; font-weight: bold\"> acts: [TALK] </span>\n",
       "<span style=\"color: #00d700; text-decoration-color: #00d700; font-weight: bold\">                   &gt; If I could improve in one aspect, it would be enhancing our ability to</span>\n",
       "<span style=\"color: #00d700; text-decoration-color: #00d700; font-weight: bold\">                   &gt; integrate new technologies like AI and machine learning more efficiently. This</span>\n",
       "<span style=\"color: #00d700; text-decoration-color: #00d700; font-weight: bold\">                   &gt; would not only streamline our processes but also give us a competitive edge by</span>\n",
       "<span style=\"color: #00d700; text-decoration-color: #00d700; font-weight: bold\">                   &gt; offering cutting-edge services to our customers.</span>\n",
       "</pre>\n"
      ],
      "text/plain": [
       "\u001b[1;4;38;5;40mRanbir Kapoor\u001b[0m\u001b[1;38;5;40m acts: \u001b[0m\u001b[1;38;5;40m[\u001b[0m\u001b[1;38;5;40mTALK\u001b[0m\u001b[1;38;5;40m]\u001b[0m\u001b[1;38;5;40m \u001b[0m\n",
       "\u001b[1;38;5;40m                   > If I could improve in one aspect, it would be enhancing our ability to\u001b[0m\n",
       "\u001b[1;38;5;40m                   > integrate new technologies like AI and machine learning more efficiently. This\u001b[0m\n",
       "\u001b[1;38;5;40m                   > would not only streamline our processes but also give us a competitive edge by\u001b[0m\n",
       "\u001b[1;38;5;40m                   > offering cutting-edge services to our customers.\u001b[0m\n"
      ]
     },
     "metadata": {},
     "output_type": "display_data"
    },
    {
     "data": {
      "text/html": [
       "<pre style=\"margin:0px;;white-space:pre;overflow-x:auto;line-height:normal;font-family:Menlo,'DejaVu Sans Mono',consolas,'Courier New',monospace\"><span style=\"color: #7fffff; text-decoration-color: #7fffff; font-style: italic; text-decoration: underline\">Ranbir Kapoor</span><span style=\"color: #7fffff; text-decoration-color: #7fffff; font-style: italic\"> --&gt; </span><span style=\"color: #7fffff; text-decoration-color: #7fffff; font-style: italic; text-decoration: underline\">Ranbir Kapoor</span><span style=\"color: #7fffff; text-decoration-color: #7fffff; font-style: italic\">: </span><span style=\"color: #7fffff; text-decoration-color: #7fffff; font-weight: bold; font-style: italic\">[</span><span style=\"color: #7fffff; text-decoration-color: #7fffff; font-style: italic\">THOUGHT</span><span style=\"color: #7fffff; text-decoration-color: #7fffff; font-weight: bold; font-style: italic\">]</span><span style=\"color: #7fffff; text-decoration-color: #7fffff; font-style: italic\"> </span>\n",
       "<span style=\"color: #7fffff; text-decoration-color: #7fffff; font-style: italic\">                   &gt; I will now act a bit, and then issue DONE.</span>\n",
       "</pre>\n"
      ],
      "text/plain": [
       "\u001b[2;3;4;38;5;51mRanbir Kapoor\u001b[0m\u001b[2;3;38;5;51m --> \u001b[0m\u001b[2;3;4;38;5;51mRanbir Kapoor\u001b[0m\u001b[2;3;38;5;51m: \u001b[0m\u001b[1;2;3;38;5;51m[\u001b[0m\u001b[2;3;38;5;51mTHOUGHT\u001b[0m\u001b[1;2;3;38;5;51m]\u001b[0m\u001b[2;3;38;5;51m \u001b[0m\n",
       "\u001b[2;3;38;5;51m                   > I will now act a bit, and then issue DONE.\u001b[0m\n"
      ]
     },
     "metadata": {},
     "output_type": "display_data"
    },
    {
     "data": {
      "text/html": [
       "<pre style=\"margin:0px;;white-space:pre;overflow-x:auto;line-height:normal;font-family:Menlo,'DejaVu Sans Mono',consolas,'Courier New',monospace\"><span style=\"color: #d0d0d0; text-decoration-color: #d0d0d0; text-decoration: underline\">Ranbir Kapoor</span><span style=\"color: #d0d0d0; text-decoration-color: #d0d0d0\"> acts: </span><span style=\"color: #d0d0d0; text-decoration-color: #d0d0d0; font-weight: bold\">[</span><span style=\"color: #d0d0d0; text-decoration-color: #d0d0d0\">DONE</span><span style=\"color: #d0d0d0; text-decoration-color: #d0d0d0; font-weight: bold\">]</span><span style=\"color: #d0d0d0; text-decoration-color: #d0d0d0\"> </span>\n",
       "\n",
       "</pre>\n"
      ],
      "text/plain": [
       "\u001b[4;38;5;252mRanbir Kapoor\u001b[0m\u001b[38;5;252m acts: \u001b[0m\u001b[1;38;5;252m[\u001b[0m\u001b[38;5;252mDONE\u001b[0m\u001b[1;38;5;252m]\u001b[0m\u001b[38;5;252m \u001b[0m\n",
       "\n"
      ]
     },
     "metadata": {},
     "output_type": "display_data"
    }
   ],
   "source": [
    "customer.listen_and_act(\"If you could improve in one of these aspects to better compete, what would that be?\", max_content_length=3000)"
   ]
  },
  {
   "cell_type": "code",
   "execution_count": 11,
   "id": "e39a219a-9a33-47f3-8355-4db7fd19f5a0",
   "metadata": {},
   "outputs": [
    {
     "data": {
      "text/html": [
       "<pre style=\"margin:0px;;white-space:pre;overflow-x:auto;line-height:normal;font-family:Menlo,'DejaVu Sans Mono',consolas,'Courier New',monospace\"><span style=\"color: #00ffff; text-decoration-color: #00ffff; font-weight: bold; font-style: italic; text-decoration: underline\">USER</span><span style=\"color: #00ffff; text-decoration-color: #00ffff; font-weight: bold; font-style: italic\"> --&gt; </span><span style=\"color: #00ffff; text-decoration-color: #00ffff; font-weight: bold; font-style: italic; text-decoration: underline\">Ranbir Kapoor</span><span style=\"color: #00ffff; text-decoration-color: #00ffff; font-weight: bold; font-style: italic\">: [CONVERSATION] </span>\n",
       "<span style=\"color: #00ffff; text-decoration-color: #00ffff; font-weight: bold; font-style: italic\">          &gt; Please give more detail about that, so that we can think about a project to pursue this</span>\n",
       "<span style=\"color: #00ffff; text-decoration-color: #00ffff; font-weight: bold; font-style: italic\">          &gt; direction.</span>\n",
       "</pre>\n"
      ],
      "text/plain": [
       "\u001b[1;3;4;38;5;51mUSER\u001b[0m\u001b[1;3;38;5;51m --> \u001b[0m\u001b[1;3;4;38;5;51mRanbir Kapoor\u001b[0m\u001b[1;3;38;5;51m: \u001b[0m\u001b[1;3;38;5;51m[\u001b[0m\u001b[1;3;38;5;51mCONVERSATION\u001b[0m\u001b[1;3;38;5;51m]\u001b[0m\u001b[1;3;38;5;51m \u001b[0m\n",
       "\u001b[1;3;38;5;51m          > Please give more detail about that, so that we can think about a project to pursue this\u001b[0m\n",
       "\u001b[1;3;38;5;51m          > direction.\u001b[0m\n"
      ]
     },
     "metadata": {},
     "output_type": "display_data"
    },
    {
     "data": {
      "text/html": [
       "<pre style=\"margin:0px;;white-space:pre;overflow-x:auto;line-height:normal;font-family:Menlo,'DejaVu Sans Mono',consolas,'Courier New',monospace\"><span style=\"color: #7fffff; text-decoration-color: #7fffff; font-style: italic; text-decoration: underline\">Ranbir Kapoor</span><span style=\"color: #7fffff; text-decoration-color: #7fffff; font-style: italic\"> --&gt; </span><span style=\"color: #7fffff; text-decoration-color: #7fffff; font-style: italic; text-decoration: underline\">Ranbir Kapoor</span><span style=\"color: #7fffff; text-decoration-color: #7fffff; font-style: italic\">: </span><span style=\"color: #7fffff; text-decoration-color: #7fffff; font-weight: bold; font-style: italic\">[</span><span style=\"color: #7fffff; text-decoration-color: #7fffff; font-style: italic\">THOUGHT</span><span style=\"color: #7fffff; text-decoration-color: #7fffff; font-weight: bold; font-style: italic\">]</span><span style=\"color: #7fffff; text-decoration-color: #7fffff; font-style: italic\"> </span>\n",
       "<span style=\"color: #7fffff; text-decoration-color: #7fffff; font-style: italic\">                   &gt; I will now act a bit, and then issue DONE.</span>\n",
       "</pre>\n"
      ],
      "text/plain": [
       "\u001b[2;3;4;38;5;51mRanbir Kapoor\u001b[0m\u001b[2;3;38;5;51m --> \u001b[0m\u001b[2;3;4;38;5;51mRanbir Kapoor\u001b[0m\u001b[2;3;38;5;51m: \u001b[0m\u001b[1;2;3;38;5;51m[\u001b[0m\u001b[2;3;38;5;51mTHOUGHT\u001b[0m\u001b[1;2;3;38;5;51m]\u001b[0m\u001b[2;3;38;5;51m \u001b[0m\n",
       "\u001b[2;3;38;5;51m                   > I will now act a bit, and then issue DONE.\u001b[0m\n"
      ]
     },
     "metadata": {},
     "output_type": "display_data"
    },
    {
     "data": {
      "text/html": [
       "<pre style=\"margin:0px;;white-space:pre;overflow-x:auto;line-height:normal;font-family:Menlo,'DejaVu Sans Mono',consolas,'Courier New',monospace\"><span style=\"color: #008000; text-decoration-color: #008000; text-decoration: underline\">Ranbir Kapoor</span><span style=\"color: #008000; text-decoration-color: #008000\"> acts: </span><span style=\"color: #008000; text-decoration-color: #008000; font-weight: bold\">[</span><span style=\"color: #008000; text-decoration-color: #008000\">THINK</span><span style=\"color: #008000; text-decoration-color: #008000; font-weight: bold\">]</span><span style=\"color: #008000; text-decoration-color: #008000\"> </span>\n",
       "<span style=\"color: #008000; text-decoration-color: #008000\">                   &gt; I need to provide more details about integrating AI and machine learning into</span>\n",
       "<span style=\"color: #008000; text-decoration-color: #008000\">                   &gt; our banking services.</span>\n",
       "</pre>\n"
      ],
      "text/plain": [
       "\u001b[4;32mRanbir Kapoor\u001b[0m\u001b[32m acts: \u001b[0m\u001b[1;32m[\u001b[0m\u001b[32mTHINK\u001b[0m\u001b[1;32m]\u001b[0m\u001b[32m \u001b[0m\n",
       "\u001b[32m                   > I need to provide more details about integrating AI and machine learning into\u001b[0m\n",
       "\u001b[32m                   > our banking services.\u001b[0m\n"
      ]
     },
     "metadata": {},
     "output_type": "display_data"
    },
    {
     "data": {
      "text/html": [
       "<pre style=\"margin:0px;;white-space:pre;overflow-x:auto;line-height:normal;font-family:Menlo,'DejaVu Sans Mono',consolas,'Courier New',monospace\"><span style=\"color: #7fffff; text-decoration-color: #7fffff; font-style: italic; text-decoration: underline\">Ranbir Kapoor</span><span style=\"color: #7fffff; text-decoration-color: #7fffff; font-style: italic\"> --&gt; </span><span style=\"color: #7fffff; text-decoration-color: #7fffff; font-style: italic; text-decoration: underline\">Ranbir Kapoor</span><span style=\"color: #7fffff; text-decoration-color: #7fffff; font-style: italic\">: </span><span style=\"color: #7fffff; text-decoration-color: #7fffff; font-weight: bold; font-style: italic\">[</span><span style=\"color: #7fffff; text-decoration-color: #7fffff; font-style: italic\">THOUGHT</span><span style=\"color: #7fffff; text-decoration-color: #7fffff; font-weight: bold; font-style: italic\">]</span><span style=\"color: #7fffff; text-decoration-color: #7fffff; font-style: italic\"> </span>\n",
       "<span style=\"color: #7fffff; text-decoration-color: #7fffff; font-style: italic\">                   &gt; I will now act a bit, and then issue DONE.</span>\n",
       "</pre>\n"
      ],
      "text/plain": [
       "\u001b[2;3;4;38;5;51mRanbir Kapoor\u001b[0m\u001b[2;3;38;5;51m --> \u001b[0m\u001b[2;3;4;38;5;51mRanbir Kapoor\u001b[0m\u001b[2;3;38;5;51m: \u001b[0m\u001b[1;2;3;38;5;51m[\u001b[0m\u001b[2;3;38;5;51mTHOUGHT\u001b[0m\u001b[1;2;3;38;5;51m]\u001b[0m\u001b[2;3;38;5;51m \u001b[0m\n",
       "\u001b[2;3;38;5;51m                   > I will now act a bit, and then issue DONE.\u001b[0m\n"
      ]
     },
     "metadata": {},
     "output_type": "display_data"
    },
    {
     "data": {
      "text/html": [
       "<pre style=\"margin:0px;;white-space:pre;overflow-x:auto;line-height:normal;font-family:Menlo,'DejaVu Sans Mono',consolas,'Courier New',monospace\"><span style=\"color: #00d700; text-decoration-color: #00d700; font-weight: bold; text-decoration: underline\">Ranbir Kapoor</span><span style=\"color: #00d700; text-decoration-color: #00d700; font-weight: bold\"> acts: [TALK] </span>\n",
       "<span style=\"color: #00d700; text-decoration-color: #00d700; font-weight: bold\">                   &gt; To integrate AI and machine learning effectively, we need to focus on a few key</span>\n",
       "<span style=\"color: #00d700; text-decoration-color: #00d700; font-weight: bold\">                   &gt; areas. First, we should invest in training our team to understand and utilize</span>\n",
       "<span style=\"color: #00d700; text-decoration-color: #00d700; font-weight: bold\">                   &gt; these technologies. This includes workshops and courses to build expertise.</span>\n",
       "<span style=\"color: #00d700; text-decoration-color: #00d700; font-weight: bold\">                   &gt; Second, we need to establish a robust data infrastructure that can support AI</span>\n",
       "<span style=\"color: #00d700; text-decoration-color: #00d700; font-weight: bold\">                   &gt; applications, ensuring data quality and accessibility. Third, we should</span>\n",
       "<span style=\"color: #00d700; text-decoration-color: #00d700; font-weight: bold\">                   &gt; identify specific use cases where AI can add value, such as personalized</span>\n",
       "<span style=\"color: #00d700; text-decoration-color: #00d700; font-weight: bold\">                   &gt; customer experiences or fraud detection. Finally, collaboration with fintech</span>\n",
       "<span style=\"color: #00d700; text-decoration-color: #00d700; font-weight: bold\">                   &gt; startups could provide innovative solutions and accelerate our integration</span>\n",
       "<span style=\"color: #00d700; text-decoration-color: #00d700; font-weight: bold\">                   &gt; process.</span>\n",
       "</pre>\n"
      ],
      "text/plain": [
       "\u001b[1;4;38;5;40mRanbir Kapoor\u001b[0m\u001b[1;38;5;40m acts: \u001b[0m\u001b[1;38;5;40m[\u001b[0m\u001b[1;38;5;40mTALK\u001b[0m\u001b[1;38;5;40m]\u001b[0m\u001b[1;38;5;40m \u001b[0m\n",
       "\u001b[1;38;5;40m                   > To integrate AI and machine learning effectively, we need to focus on a few key\u001b[0m\n",
       "\u001b[1;38;5;40m                   > areas. First, we should invest in training our team to understand and utilize\u001b[0m\n",
       "\u001b[1;38;5;40m                   > these technologies. This includes workshops and courses to build expertise.\u001b[0m\n",
       "\u001b[1;38;5;40m                   > Second, we need to establish a robust data infrastructure that can support AI\u001b[0m\n",
       "\u001b[1;38;5;40m                   > applications, ensuring data quality and accessibility. Third, we should\u001b[0m\n",
       "\u001b[1;38;5;40m                   > identify specific use cases where AI can add value, such as personalized\u001b[0m\n",
       "\u001b[1;38;5;40m                   > customer experiences or fraud detection. Finally, collaboration with fintech\u001b[0m\n",
       "\u001b[1;38;5;40m                   > startups could provide innovative solutions and accelerate our integration\u001b[0m\n",
       "\u001b[1;38;5;40m                   > process.\u001b[0m\n"
      ]
     },
     "metadata": {},
     "output_type": "display_data"
    },
    {
     "data": {
      "text/html": [
       "<pre style=\"margin:0px;;white-space:pre;overflow-x:auto;line-height:normal;font-family:Menlo,'DejaVu Sans Mono',consolas,'Courier New',monospace\"><span style=\"color: #7fffff; text-decoration-color: #7fffff; font-style: italic; text-decoration: underline\">Ranbir Kapoor</span><span style=\"color: #7fffff; text-decoration-color: #7fffff; font-style: italic\"> --&gt; </span><span style=\"color: #7fffff; text-decoration-color: #7fffff; font-style: italic; text-decoration: underline\">Ranbir Kapoor</span><span style=\"color: #7fffff; text-decoration-color: #7fffff; font-style: italic\">: </span><span style=\"color: #7fffff; text-decoration-color: #7fffff; font-weight: bold; font-style: italic\">[</span><span style=\"color: #7fffff; text-decoration-color: #7fffff; font-style: italic\">THOUGHT</span><span style=\"color: #7fffff; text-decoration-color: #7fffff; font-weight: bold; font-style: italic\">]</span><span style=\"color: #7fffff; text-decoration-color: #7fffff; font-style: italic\"> </span>\n",
       "<span style=\"color: #7fffff; text-decoration-color: #7fffff; font-style: italic\">                   &gt; I will now act a bit, and then issue DONE.</span>\n",
       "</pre>\n"
      ],
      "text/plain": [
       "\u001b[2;3;4;38;5;51mRanbir Kapoor\u001b[0m\u001b[2;3;38;5;51m --> \u001b[0m\u001b[2;3;4;38;5;51mRanbir Kapoor\u001b[0m\u001b[2;3;38;5;51m: \u001b[0m\u001b[1;2;3;38;5;51m[\u001b[0m\u001b[2;3;38;5;51mTHOUGHT\u001b[0m\u001b[1;2;3;38;5;51m]\u001b[0m\u001b[2;3;38;5;51m \u001b[0m\n",
       "\u001b[2;3;38;5;51m                   > I will now act a bit, and then issue DONE.\u001b[0m\n"
      ]
     },
     "metadata": {},
     "output_type": "display_data"
    },
    {
     "data": {
      "text/html": [
       "<pre style=\"margin:0px;;white-space:pre;overflow-x:auto;line-height:normal;font-family:Menlo,'DejaVu Sans Mono',consolas,'Courier New',monospace\"><span style=\"color: #d0d0d0; text-decoration-color: #d0d0d0; text-decoration: underline\">Ranbir Kapoor</span><span style=\"color: #d0d0d0; text-decoration-color: #d0d0d0\"> acts: </span><span style=\"color: #d0d0d0; text-decoration-color: #d0d0d0; font-weight: bold\">[</span><span style=\"color: #d0d0d0; text-decoration-color: #d0d0d0\">DONE</span><span style=\"color: #d0d0d0; text-decoration-color: #d0d0d0; font-weight: bold\">]</span><span style=\"color: #d0d0d0; text-decoration-color: #d0d0d0\"> </span>\n",
       "\n",
       "</pre>\n"
      ],
      "text/plain": [
       "\u001b[4;38;5;252mRanbir Kapoor\u001b[0m\u001b[38;5;252m acts: \u001b[0m\u001b[1;38;5;252m[\u001b[0m\u001b[38;5;252mDONE\u001b[0m\u001b[1;38;5;252m]\u001b[0m\u001b[38;5;252m \u001b[0m\n",
       "\n"
      ]
     },
     "metadata": {},
     "output_type": "display_data"
    }
   ],
   "source": [
    "customer.listen_and_act(\"Please give more detail about that, so that we can think about a project to pursue this direction.\", \n",
    "                        max_content_length=3000)"
   ]
  },
  {
   "cell_type": "code",
   "execution_count": null,
   "id": "778b6038-a189-445b-b9f6-b9fd827eedd1",
   "metadata": {},
   "outputs": [],
   "source": []
  }
 ],
 "metadata": {
  "kernelspec": {
   "display_name": "Python 3 (ipykernel)",
   "language": "python",
   "name": "python3"
  },
  "language_info": {
   "codemirror_mode": {
    "name": "ipython",
    "version": 3
   },
   "file_extension": ".py",
   "mimetype": "text/x-python",
   "name": "python",
   "nbconvert_exporter": "python",
   "pygments_lexer": "ipython3",
   "version": "3.10.15"
  }
 },
 "nbformat": 4,
 "nbformat_minor": 5
}
